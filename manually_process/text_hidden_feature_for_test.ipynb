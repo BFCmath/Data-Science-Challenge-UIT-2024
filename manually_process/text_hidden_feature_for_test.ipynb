{
 "cells": [
  {
   "cell_type": "code",
   "execution_count": 1,
   "metadata": {},
   "outputs": [],
   "source": [
    "import json\n",
    "\n",
    "# Open the JSON file\n",
    "with open('data\\\\vimmsd-public-test.json', 'r') as file:\n",
    "    # Load the JSON data\n",
    "    data = json.load(file)\n"
   ]
  },
  {
   "cell_type": "code",
   "execution_count": 2,
   "metadata": {},
   "outputs": [],
   "source": [
    "import unicodedata\n",
    "\n",
    "def has_emoji(text):\n",
    "    emos = []\n",
    "    for char in text:\n",
    "        # Check if the character is an emoji\n",
    "        if unicodedata.category(char).startswith('So'):\n",
    "            emos += char \n",
    "    return len(emos) > 0, set(emos)\n"
   ]
  },
  {
   "cell_type": "code",
   "execution_count": 3,
   "metadata": {},
   "outputs": [
    {
     "name": "stdout",
     "output_type": "stream",
     "text": [
      "(True, {'❗'})\n",
      "(False, set())\n",
      "(True, {'😆', '😄'})\n"
     ]
    }
   ],
   "source": [
    "text1 = \"\"\"THỜI ĐẠI TIU-ĐÂY lên ngôi❗️ Chim chuột với chồng bạn ngay sau lưng!\n",
    "Truy tìm chị vợ áo hoa trong video và muốn nói cho chị rằng:” Chị ơi bạn chị cả chồng chị nắm tay nhau sau lưng chị kìa❗️❗️\n",
    "Chị chị em em cây cà lem cũng muốn g/i/ậ/t!\"\"\"\n",
    "\n",
    "text2 = \"Cô ấy trên mạng vs cô ấy ngoài đời =)))\"\n",
    "text3 = \"Để kao giữ xe hắn lại cho,mài đi báo cảnh sát đi 😆😄.\"\n",
    "\n",
    "print(has_emoji(text1))  # Output: True\n",
    "print(has_emoji(text2))  # Output: False\n",
    "print(has_emoji(text3))  # Output: False\n"
   ]
  },
  {
   "cell_type": "code",
   "execution_count": 4,
   "metadata": {},
   "outputs": [
    {
     "data": {
      "text/plain": [
       "{'image': 'bb934d7d7f7652903c24272d405e4b31c70689cec93f86d5d36f17707c36fceb.jpg',\n",
       " 'caption': 'Hãy thực tế lên, đừng kêu ca nữa :)))',\n",
       " 'label': None}"
      ]
     },
     "execution_count": 4,
     "metadata": {},
     "output_type": "execute_result"
    }
   ],
   "source": [
    "data[\"0\"]"
   ]
  },
  {
   "cell_type": "code",
   "execution_count": 6,
   "metadata": {},
   "outputs": [],
   "source": [
    "icon_idx = []\n",
    "label_map = {\n",
    "    None: 0,\n",
    "}\n",
    "count_label_emoji = {\n",
    "    None: 0,\n",
    "}\n",
    "map_icon = {\n",
    "    None: {},\n",
    "}\n",
    "for i in range(len(data)):\n",
    "    check, emos = has_emoji(data[str(i)]['caption'])\n",
    "    label = data[str(i)]['label']\n",
    "    if check:\n",
    "        count_label_emoji[label] += 1\n",
    "        for emo in emos:\n",
    "            map_icon[label][emo] = map_icon[label].get(emo, 0) + 1"
   ]
  },
  {
   "cell_type": "code",
   "execution_count": 9,
   "metadata": {},
   "outputs": [],
   "source": [
    "# export to json file, make the json exported file can store emoji\n",
    "with open('icon_test.json', 'w', encoding='utf-8') as f:\n",
    "    json.dump(map_icon, f, ensure_ascii=False, indent=4)"
   ]
  },
  {
   "cell_type": "code",
   "execution_count": 10,
   "metadata": {},
   "outputs": [
    {
     "data": {
      "text/plain": [
       "<BarContainer object of 109 artists>"
      ]
     },
     "execution_count": 10,
     "metadata": {},
     "output_type": "execute_result"
    },
    {
     "data": {
      "image/png": "[encoded data removed]",
      "text/plain": [
       "<Figure size 2000x1000 with 1 Axes>"
      ]
     },
     "metadata": {},
     "output_type": "display_data"
    }
   ],
   "source": [
    "# plot the values \n",
    "import matplotlib.pyplot as plt\n",
    "import numpy as np\n",
    "# subplot for not and multi sarcasm \n",
    "plt.figure(figsize=(20, 10))\n",
    "plt.subplot(1, 2, 2)\n",
    "b = sorted(map_icon[None].values(),reverse=True)\n",
    "plt.bar(range(len(b)), b)"
   ]
  },
  {
   "cell_type": "markdown",
   "metadata": {},
   "source": [
    "Choose 25 as threshold for not sarcasm and 10 for multi-sarcasm"
   ]
  },
  {
   "cell_type": "code",
   "execution_count": 7,
   "metadata": {},
   "outputs": [],
   "source": [
    "emoji_not_sarcasm = []\n",
    "for k,v in map_icon[\"not-sarcasm\"].items():\n",
    "    if v >= 25:\n",
    "        emoji_not_sarcasm.append(k)\n",
    "        \n",
    "emoji_multi_sarcasm = []\n",
    "for k,v in map_icon[\"multi-sarcasm\"].items():\n",
    "    if v >= 10:\n",
    "        emoji_multi_sarcasm.append(k)"
   ]
  },
  {
   "cell_type": "code",
   "execution_count": 13,
   "metadata": {},
   "outputs": [
    {
     "data": {
      "text/plain": [
       "109"
      ]
     },
     "execution_count": 13,
     "metadata": {},
     "output_type": "execute_result"
    }
   ],
   "source": [
    "emoji_list = map_icon[None].keys()\n",
    "len(emoji_list)"
   ]
  },
  {
   "cell_type": "code",
   "execution_count": 69,
   "metadata": {},
   "outputs": [],
   "source": [
    "train_emoji_list = []\n",
    "with open('emoji_list_no_repeat_larger.txt', 'r', encoding='utf-8') as f:\n",
    "    train_emoji_list = f.readlines() \n",
    "    train_emoji_list = [x.strip() for x in train_emoji_list]"
   ]
  },
  {
   "cell_type": "code",
   "execution_count": 70,
   "metadata": {},
   "outputs": [
    {
     "name": "stdout",
     "output_type": "stream",
     "text": [
      "45\n"
     ]
    }
   ],
   "source": [
    "print(len(train_emoji_list))"
   ]
  },
  {
   "cell_type": "code",
   "execution_count": 71,
   "metadata": {},
   "outputs": [
    {
     "data": {
      "text/plain": [
       "35"
      ]
     },
     "execution_count": 71,
     "metadata": {},
     "output_type": "execute_result"
    }
   ],
   "source": [
    "# count the number of emoji appearing in both train and test\n",
    "count = 0\n",
    "for emo in emoji_list:\n",
    "    if emo in train_emoji_list:\n",
    "        count += 1\n",
    "count"
   ]
  },
  {
   "cell_type": "code",
   "execution_count": 72,
   "metadata": {},
   "outputs": [
    {
     "data": {
      "text/plain": [
       "dict_keys(['🤔', '😮', '🤩', '✨', '🔥', '🇺', '🇸', '🇨', '🇳', '✅', '🇰', '🇷', '🇻', '😅', '🤣', '😎', '🤟', '😂', '❤', '😛', '🐧', '💀', '👌', '🎶', '😢', '👇', '👉', '😭', '😞', '🥲', '🤫', '👍', '🤌', '🤍', '🛑', '🙏', '🥰', '🥳', '😍', '🥵', '🤭', '😣', '👑', '📍', '⚡', '💐', '💦', '🔜', '🌼', '🥹', '🎉', '☝', '🥱', '🗿', '🫣', '🫶', '😔', '😐', '☠', '👦', '😳', '🫡', '🚨', '🫰', '♂', '🦸', '🤗', '😿', '😒', '😏', '👏', '😌', '💖', '🦄', '😠', '🥺', '🌝', '😟', '😘', '🙁', '🐼', '📽', '🐸', '🙈', '📸', '🌟', '🦍', '🎥', '💥', '🎟', '🐉', '👶', '🎬', '🤕', '🙇', '😤', '🧑', '🦽', '🟥', '💯', '☹', '⭐', '🤡', '🏴', '🥴', '🙂', '❗', '🤨', '🫢'])"
      ]
     },
     "execution_count": 72,
     "metadata": {},
     "output_type": "execute_result"
    }
   ],
   "source": [
    "emoji_list"
   ]
  },
  {
   "cell_type": "code",
   "execution_count": 73,
   "metadata": {},
   "outputs": [
    {
     "data": {
      "text/plain": [
       "({None: 245}, {None: 1413})"
      ]
     },
     "execution_count": 73,
     "metadata": {},
     "output_type": "execute_result"
    }
   ],
   "source": [
    "count = {}\n",
    "for id,d in data.items():\n",
    "    label = d[\"label\"]\n",
    "    if label not in count:\n",
    "        count[label] = 0\n",
    "    count[label] += 1\n",
    "    \n",
    "count_label_emoji, count"
   ]
  },
  {
   "cell_type": "code",
   "execution_count": 75,
   "metadata": {},
   "outputs": [],
   "source": [
    "map_count_emo = {}\n",
    "for emo in train_emoji_list:\n",
    "    map_count_emo[emo] = 0\n",
    "\n",
    "for i in data.keys():\n",
    "    check, emos = has_emoji(data[str(i)]['caption'])\n",
    "    if check:\n",
    "        for emo in emos:\n",
    "            if(emo in train_emoji_list):\n",
    "                map_count_emo[emo] += 1"
   ]
  },
  {
   "cell_type": "code",
   "execution_count": 76,
   "metadata": {},
   "outputs": [],
   "source": [
    "# save to a pandas dataframe\n",
    "import pandas as pd\n",
    "\n",
    "# 3 cols, the first is emoji, the second is the number of emoji in not sarcasm, the third is the number of emoji in sarcasm\n",
    "\n",
    "df = pd.DataFrame(columns=[\"emoji\", \"count\"])\n",
    "df[\"emoji\"] = train_emoji_list\n",
    "df[\"count\"] = [map_count_emo[emo] for emo in train_emoji_list]\n",
    "# for emo in emoji_list:\n",
    "    # df = df.append({\"emoji\": emo, \"not-sarcasm\": map_not_sarcasm[emo], \"sarcasm\": map_sarcasm[emo]}, ignore_index=True)"
   ]
  },
  {
   "cell_type": "code",
   "execution_count": 58,
   "metadata": {},
   "outputs": [
    {
     "data": {
      "text/html": [
       "<div>\n",
       "<style scoped>\n",
       "    .dataframe tbody tr th:only-of-type {\n",
       "        vertical-align: middle;\n",
       "    }\n",
       "\n",
       "    .dataframe tbody tr th {\n",
       "        vertical-align: top;\n",
       "    }\n",
       "\n",
       "    .dataframe thead th {\n",
       "        text-align: right;\n",
       "    }\n",
       "</style>\n",
       "<table border=\"1\" class=\"dataframe\">\n",
       "  <thead>\n",
       "    <tr style=\"text-align: right;\">\n",
       "      <th></th>\n",
       "      <th>emoji</th>\n",
       "      <th>count</th>\n",
       "    </tr>\n",
       "  </thead>\n",
       "  <tbody>\n",
       "    <tr>\n",
       "      <th>0</th>\n",
       "      <td>🥹</td>\n",
       "      <td>4</td>\n",
       "    </tr>\n",
       "    <tr>\n",
       "      <th>1</th>\n",
       "      <td>😇</td>\n",
       "      <td>0</td>\n",
       "    </tr>\n",
       "    <tr>\n",
       "      <th>2</th>\n",
       "      <td>❤</td>\n",
       "      <td>15</td>\n",
       "    </tr>\n",
       "    <tr>\n",
       "      <th>3</th>\n",
       "      <td>♥</td>\n",
       "      <td>0</td>\n",
       "    </tr>\n",
       "    <tr>\n",
       "      <th>4</th>\n",
       "      <td>😢</td>\n",
       "      <td>9</td>\n",
       "    </tr>\n",
       "    <tr>\n",
       "      <th>5</th>\n",
       "      <td>😂</td>\n",
       "      <td>3</td>\n",
       "    </tr>\n",
       "    <tr>\n",
       "      <th>6</th>\n",
       "      <td>😎</td>\n",
       "      <td>7</td>\n",
       "    </tr>\n",
       "    <tr>\n",
       "      <th>7</th>\n",
       "      <td>🥰</td>\n",
       "      <td>8</td>\n",
       "    </tr>\n",
       "    <tr>\n",
       "      <th>8</th>\n",
       "      <td>🔥</td>\n",
       "      <td>21</td>\n",
       "    </tr>\n",
       "    <tr>\n",
       "      <th>9</th>\n",
       "      <td>🙁</td>\n",
       "      <td>2</td>\n",
       "    </tr>\n",
       "    <tr>\n",
       "      <th>10</th>\n",
       "      <td>👇</td>\n",
       "      <td>8</td>\n",
       "    </tr>\n",
       "    <tr>\n",
       "      <th>11</th>\n",
       "      <td>🚨</td>\n",
       "      <td>1</td>\n",
       "    </tr>\n",
       "    <tr>\n",
       "      <th>12</th>\n",
       "      <td>😃</td>\n",
       "      <td>0</td>\n",
       "    </tr>\n",
       "    <tr>\n",
       "      <th>13</th>\n",
       "      <td>✨</td>\n",
       "      <td>1</td>\n",
       "    </tr>\n",
       "    <tr>\n",
       "      <th>14</th>\n",
       "      <td>🙂</td>\n",
       "      <td>2</td>\n",
       "    </tr>\n",
       "    <tr>\n",
       "      <th>15</th>\n",
       "      <td>🐧</td>\n",
       "      <td>2</td>\n",
       "    </tr>\n",
       "    <tr>\n",
       "      <th>16</th>\n",
       "      <td>😍</td>\n",
       "      <td>9</td>\n",
       "    </tr>\n",
       "    <tr>\n",
       "      <th>17</th>\n",
       "      <td>👉</td>\n",
       "      <td>6</td>\n",
       "    </tr>\n",
       "    <tr>\n",
       "      <th>18</th>\n",
       "      <td>💀</td>\n",
       "      <td>7</td>\n",
       "    </tr>\n",
       "    <tr>\n",
       "      <th>19</th>\n",
       "      <td>🇳</td>\n",
       "      <td>6</td>\n",
       "    </tr>\n",
       "    <tr>\n",
       "      <th>20</th>\n",
       "      <td>🤡</td>\n",
       "      <td>2</td>\n",
       "    </tr>\n",
       "    <tr>\n",
       "      <th>21</th>\n",
       "      <td>🙏</td>\n",
       "      <td>8</td>\n",
       "    </tr>\n",
       "    <tr>\n",
       "      <th>22</th>\n",
       "      <td>☺</td>\n",
       "      <td>0</td>\n",
       "    </tr>\n",
       "    <tr>\n",
       "      <th>23</th>\n",
       "      <td>🇻</td>\n",
       "      <td>6</td>\n",
       "    </tr>\n",
       "    <tr>\n",
       "      <th>24</th>\n",
       "      <td>🤣</td>\n",
       "      <td>20</td>\n",
       "    </tr>\n",
       "    <tr>\n",
       "      <th>25</th>\n",
       "      <td>😅</td>\n",
       "      <td>5</td>\n",
       "    </tr>\n",
       "    <tr>\n",
       "      <th>26</th>\n",
       "      <td>😏</td>\n",
       "      <td>1</td>\n",
       "    </tr>\n",
       "    <tr>\n",
       "      <th>27</th>\n",
       "      <td>👍</td>\n",
       "      <td>6</td>\n",
       "    </tr>\n",
       "    <tr>\n",
       "      <th>28</th>\n",
       "      <td>😆</td>\n",
       "      <td>0</td>\n",
       "    </tr>\n",
       "    <tr>\n",
       "      <th>29</th>\n",
       "      <td>😀</td>\n",
       "      <td>0</td>\n",
       "    </tr>\n",
       "    <tr>\n",
       "      <th>30</th>\n",
       "      <td>🥲</td>\n",
       "      <td>8</td>\n",
       "    </tr>\n",
       "  </tbody>\n",
       "</table>\n",
       "</div>"
      ],
      "text/plain": [
       "   emoji  count\n",
       "0      🥹      4\n",
       "1      😇      0\n",
       "2      ❤     15\n",
       "3      ♥      0\n",
       "4      😢      9\n",
       "5      😂      3\n",
       "6      😎      7\n",
       "7      🥰      8\n",
       "8      🔥     21\n",
       "9      🙁      2\n",
       "10     👇      8\n",
       "11     🚨      1\n",
       "12     😃      0\n",
       "13     ✨      1\n",
       "14     🙂      2\n",
       "15     🐧      2\n",
       "16     😍      9\n",
       "17     👉      6\n",
       "18     💀      7\n",
       "19     🇳      6\n",
       "20     🤡      2\n",
       "21     🙏      8\n",
       "22     ☺      0\n",
       "23     🇻      6\n",
       "24     🤣     20\n",
       "25     😅      5\n",
       "26     😏      1\n",
       "27     👍      6\n",
       "28     😆      0\n",
       "29     😀      0\n",
       "30     🥲      8"
      ]
     },
     "execution_count": 58,
     "metadata": {},
     "output_type": "execute_result"
    }
   ],
   "source": [
    "df"
   ]
  },
  {
   "cell_type": "code",
   "execution_count": 61,
   "metadata": {},
   "outputs": [
    {
     "name": "stdout",
     "output_type": "stream",
     "text": [
      "🥹 FACE HOLDING BACK TEARS\n",
      "😇 SMILING FACE WITH HALO\n",
      "❤ HEAVY BLACK HEART\n",
      "♥ BLACK HEART SUIT\n",
      "😢 CRYING FACE\n",
      "😂 FACE WITH TEARS OF JOY\n",
      "😎 SMILING FACE WITH SUNGLASSES\n",
      "🥰 SMILING FACE WITH SMILING EYES AND THREE HEARTS\n",
      "🔥 FIRE\n",
      "🙁 SLIGHTLY FROWNING FACE\n",
      "👇 WHITE DOWN POINTING BACKHAND INDEX\n",
      "🚨 POLICE CARS REVOLVING LIGHT\n",
      "😃 SMILING FACE WITH OPEN MOUTH\n",
      "✨ SPARKLES\n",
      "🙂 SLIGHTLY SMILING FACE\n",
      "🐧 PENGUIN\n",
      "😍 SMILING FACE WITH HEART-SHAPED EYES\n",
      "👉 WHITE RIGHT POINTING BACKHAND INDEX\n",
      "💀 SKULL\n",
      "🇳 REGIONAL INDICATOR SYMBOL LETTER N\n",
      "🤡 CLOWN FACE\n",
      "🙏 PERSON WITH FOLDED HANDS\n",
      "☺ WHITE SMILING FACE\n",
      "🇻 REGIONAL INDICATOR SYMBOL LETTER V\n",
      "🤣 ROLLING ON THE FLOOR LAUGHING\n",
      "😅 SMILING FACE WITH OPEN MOUTH AND COLD SWEAT\n",
      "😏 SMIRKING FACE\n",
      "👍 THUMBS UP SIGN\n",
      "😆 SMILING FACE WITH OPEN MOUTH AND TIGHTLY-CLOSED EYES\n",
      "😀 GRINNING FACE\n",
      "🥲 SMILING FACE WITH TEAR\n"
     ]
    }
   ],
   "source": [
    "import unicodedata\n",
    "\n",
    "# char = '❤'\n",
    "# name = unicodedata.name(char)\n",
    "# print(name)\n",
    "for icon in train_emoji_list:\n",
    "    print(icon, unicodedata.name(icon))"
   ]
  },
  {
   "cell_type": "code",
   "execution_count": 62,
   "metadata": {},
   "outputs": [
    {
     "data": {
      "text/plain": [
       "{None: 301}"
      ]
     },
     "execution_count": 62,
     "metadata": {},
     "output_type": "execute_result"
    }
   ],
   "source": [
    "# hash tag\n",
    "# return the whole hash tags\n",
    "def has_hash_tag(text):\n",
    "    split_text = text.split()\n",
    "    res = []\n",
    "    for t in split_text:\n",
    "        if t[0] == \"#\":\n",
    "           res.append(t) \n",
    "    return len(res)>0, res\n",
    "# count how many hash tag in each label\n",
    "\n",
    "count_label_hash_tag = {\n",
    "    None: 0,\n",
    "}\n",
    "map_hash_tag = {\n",
    "    None: [],\n",
    "}\n",
    "map_hash_tag_len={\n",
    "    None: [],\n",
    "}\n",
    "for i in data.keys():\n",
    "    check, hash_tags = has_hash_tag(data[str(i)]['caption'])\n",
    "    label = data[str(i)]['label']\n",
    "    map_hash_tag[label]+=(hash_tags)\n",
    "    map_hash_tag_len[label].append(len(hash_tags))\n",
    "    if check:\n",
    "        count_label_hash_tag[label] += 1\n",
    "\n",
    "count_label_hash_tag"
   ]
  },
  {
   "cell_type": "code",
   "execution_count": 63,
   "metadata": {},
   "outputs": [],
   "source": [
    "# write the function to count frequency of number in a list python \n",
    "def count_freq(arr):\n",
    "    freq = {}\n",
    "    for item in arr:\n",
    "        if item not in freq:\n",
    "            freq[item] = 0\n",
    "        freq[item] += 1\n",
    "    # return sorted map\n",
    "    return freq\n"
   ]
  },
  {
   "cell_type": "code",
   "execution_count": 65,
   "metadata": {},
   "outputs": [
    {
     "name": "stdout",
     "output_type": "stream",
     "text": [
      "None {0: 1112, 2: 27, 5: 15, 3: 38, 1: 209, 4: 8, 8: 2, 6: 1, 7: 1}\n"
     ]
    }
   ],
   "source": [
    "# count the number of each len_hashtag\n",
    "print(\"None\", count_freq(map_hash_tag_len[None]))"
   ]
  },
  {
   "cell_type": "code",
   "execution_count": 66,
   "metadata": {},
   "outputs": [],
   "source": [
    "# hidden icon\n",
    "\n",
    "def has_hidden_icon(text):\n",
    "    # hidden icon is the icon that is not in the unicode, but usually start with \":\" and follow by a character\n",
    "    # for example: :v, :), :(, :))) \n",
    "    split_text = text.split()\n",
    "    res = []\n",
    "    for t in split_text:\n",
    "        if t[0] == \":\" and len(t) > 1:\n",
    "            res.append(t)\n",
    "    return len(res)>0, res\n",
    "\n",
    "count_label_hidden_icon = {\n",
    "    None: 0,\n",
    "}\n",
    "map_hidden_icon = {\n",
    "    None: [],\n",
    "}\n",
    "map_hidden_icon_len={\n",
    "    None: [],\n",
    "}\n",
    "for i in data.keys():\n",
    "    check, hidden_icons = has_hidden_icon(data[str(i)]['caption'])\n",
    "    label = data[str(i)]['label']\n",
    "    map_hidden_icon[label]+=(hidden_icons)\n",
    "    map_hidden_icon_len[label].append(len(hidden_icons))\n",
    "    if check:\n",
    "        count_label_hidden_icon[label] += 1\n"
   ]
  },
  {
   "cell_type": "code",
   "execution_count": 67,
   "metadata": {},
   "outputs": [
    {
     "data": {
      "text/plain": [
       "{None: 225}"
      ]
     },
     "execution_count": 67,
     "metadata": {},
     "output_type": "execute_result"
    }
   ],
   "source": [
    "count_label_hidden_icon"
   ]
  },
  {
   "cell_type": "code",
   "execution_count": 68,
   "metadata": {},
   "outputs": [
    {
     "name": "stdout",
     "output_type": "stream",
     "text": [
      "None {':)))': 113, ':v': 15, ':))': 10, ':))))': 59, ':(((': 14, ':(((((((((': 1, ':(((((': 2, ':******': 1, ':&lt;': 1, ':adore:': 1, ':ngaonghevn:': 1, ':((((': 4, \":')\": 1, ':)))(': 3, ':((': 1}\n"
     ]
    }
   ],
   "source": [
    "# count the number of each len_hashtag\n",
    "print(\"None\", count_freq(map_hidden_icon[None]))"
   ]
  },
  {
   "cell_type": "code",
   "execution_count": null,
   "metadata": {},
   "outputs": [],
   "source": []
  }
 ],
 "metadata": {
  "kernelspec": {
   "display_name": "base",
   "language": "python",
   "name": "python3"
  },
  "language_info": {
   "codemirror_mode": {
    "name": "ipython",
    "version": 3
   },
   "file_extension": ".py",
   "mimetype": "text/x-python",
   "name": "python",
   "nbconvert_exporter": "python",
   "pygments_lexer": "ipython3",
   "version": "3.11.9"
  }
 },
 "nbformat": 4,
 "nbformat_minor": 2
}
