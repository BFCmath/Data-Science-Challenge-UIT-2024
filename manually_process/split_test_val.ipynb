{
 "cells": [
  {
   "cell_type": "code",
   "execution_count": 1,
   "metadata": {},
   "outputs": [
    {
     "name": "stdout",
     "output_type": "stream",
     "text": [
      "D:\\uitds\n"
     ]
    }
   ],
   "source": [
    "%cd D:/uitds"
   ]
  },
  {
   "cell_type": "code",
   "execution_count": 2,
   "metadata": {},
   "outputs": [],
   "source": [
    "import json\n",
    "import pandas as pd\n",
    "JSON_NAME = \"data\\\\json/vimmsd-train-no-repeat.json\"\n",
    "json_file = open(JSON_NAME, 'r')\n",
    "json_data = json.load(json_file)"
   ]
  },
  {
   "cell_type": "code",
   "execution_count": 3,
   "metadata": {},
   "outputs": [],
   "source": [
    "same_post = []\n",
    "for i in json_data.keys():\n",
    "    same_post += [int(i) for _ in range(len(json_data[i][\"image\"]))]"
   ]
  },
  {
   "cell_type": "code",
   "execution_count": 4,
   "metadata": {},
   "outputs": [],
   "source": [
    "df = pd.DataFrame()\n",
    "df[\"id_post\"] = same_post"
   ]
  },
  {
   "cell_type": "code",
   "execution_count": 5,
   "metadata": {},
   "outputs": [],
   "source": [
    "original_label = []\n",
    "for i in df[\"id_post\"]:\n",
    "    original_label.append(json_data[str(i)][\"label\"])"
   ]
  },
  {
   "cell_type": "code",
   "execution_count": 6,
   "metadata": {},
   "outputs": [],
   "source": [
    "from sklearn.model_selection import GroupShuffleSplit\n",
    "\n",
    "# Initialize the GroupShuffleSplit\n",
    "gss = GroupShuffleSplit(n_splits=1, test_size=0.15, random_state=42)\n",
    "\n",
    "# Get the train and test indices\n",
    "# train_idx, test_idx = stratified_split(original_label, test_size=0.1)\n",
    "train_idx, val_idx = next(gss.split(df, original_label, groups=df[\"id_post\"]))"
   ]
  },
  {
   "cell_type": "code",
   "execution_count": 7,
   "metadata": {},
   "outputs": [],
   "source": [
    "df[\"label\"] = original_label"
   ]
  },
  {
   "cell_type": "code",
   "execution_count": 8,
   "metadata": {},
   "outputs": [
    {
     "data": {
      "text/plain": [
       "label\n",
       "not-sarcasm      0.560944\n",
       "multi-sarcasm    0.392411\n",
       "image-sarcasm    0.039611\n",
       "text-sarcasm     0.007034\n",
       "Name: count, dtype: float64"
      ]
     },
     "execution_count": 8,
     "metadata": {},
     "output_type": "execute_result"
    }
   ],
   "source": [
    "c = df[\"label\"].value_counts()\n",
    "c/c.sum()"
   ]
  },
  {
   "cell_type": "code",
   "execution_count": 9,
   "metadata": {},
   "outputs": [
    {
     "data": {
      "text/plain": [
       "label\n",
       "not-sarcasm      0.556826\n",
       "multi-sarcasm    0.396799\n",
       "image-sarcasm    0.040388\n",
       "text-sarcasm     0.005987\n",
       "Name: count, dtype: float64"
      ]
     },
     "execution_count": 9,
     "metadata": {},
     "output_type": "execute_result"
    }
   ],
   "source": [
    "# import softmax from sklearn\n",
    "a = df[\"label\"][train_idx].value_counts()\n",
    "a/a.sum()"
   ]
  },
  {
   "cell_type": "code",
   "execution_count": 10,
   "metadata": {},
   "outputs": [
    {
     "data": {
      "text/plain": [
       "label\n",
       "not-sarcasm      0.584311\n",
       "multi-sarcasm    0.367511\n",
       "image-sarcasm    0.035207\n",
       "text-sarcasm     0.012971\n",
       "Name: count, dtype: float64"
      ]
     },
     "execution_count": 10,
     "metadata": {},
     "output_type": "execute_result"
    }
   ],
   "source": [
    "b = df[\"label\"][val_idx].value_counts()\n",
    "b/b.sum()"
   ]
  }
 ],
 "metadata": {
  "kernelspec": {
   "display_name": "base",
   "language": "python",
   "name": "python3"
  },
  "language_info": {
   "codemirror_mode": {
    "name": "ipython",
    "version": 3
   },
   "file_extension": ".py",
   "mimetype": "text/x-python",
   "name": "python",
   "nbconvert_exporter": "python",
   "pygments_lexer": "ipython3",
   "version": "3.11.9"
  }
 },
 "nbformat": 4,
 "nbformat_minor": 2
}
