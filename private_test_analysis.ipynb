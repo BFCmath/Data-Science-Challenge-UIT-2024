{
 "cells": [
  {
   "cell_type": "code",
   "execution_count": 6,
   "metadata": {},
   "outputs": [],
   "source": [
    "# get all the name from dir results_private_test\n",
    "\n",
    "import os \n",
    "import json\n",
    "\n",
    "def get_name_from_dir(dir_path):\n",
    "    names = []\n",
    "    for file in os.listdir(dir_path):\n",
    "        if file.endswith(\".json\"):\n",
    "            names.append(file.split(\".\")[0])\n",
    "    return names\n"
   ]
  },
  {
   "cell_type": "code",
   "execution_count": 8,
   "metadata": {},
   "outputs": [],
   "source": [
    "private_results = get_name_from_dir('result_private_test')"
   ]
  },
  {
   "cell_type": "code",
   "execution_count": 151,
   "metadata": {},
   "outputs": [
    {
     "data": {
      "text/plain": [
       "['private_vintern_v1_1_epoch4',\n",
       " 'private_vintern_v1_1_epoch5',\n",
       " 'private_vintern_v1_1_epoch6',\n",
       " 'private_vintern_v1_1_epoch7',\n",
       " 'private_vintern_v1_epoch3',\n",
       " 'private_vintern_v1_epoch5',\n",
       " 'private_vintern_v2_epoch2',\n",
       " 'Vintern_private_yes_no_ova_v1_epoch2']"
      ]
     },
     "execution_count": 151,
     "metadata": {},
     "output_type": "execute_result"
    }
   ],
   "source": [
    "private_results"
   ]
  },
  {
   "cell_type": "code",
   "execution_count": 9,
   "metadata": {},
   "outputs": [],
   "source": [
    "import json\n",
    "def read_submission(name_file):\n",
    "    # json file\n",
    "    with open(name_file, 'r') as f:\n",
    "        data = json.load(f)\n",
    "    return list(data[\"results\"].values())\n"
   ]
  },
  {
   "cell_type": "code",
   "execution_count": 10,
   "metadata": {},
   "outputs": [],
   "source": [
    "import pandas as pd\n",
    "\n",
    "def get_all_results(names):\n",
    "    all_results = []\n",
    "    for name in names:\n",
    "        results = read_submission(f\"result_private_test/{name}.json\")\n",
    "        all_results.append(results)\n",
    "    return all_results\n",
    "\n",
    "all_results = get_all_results(private_results)\n"
   ]
  },
  {
   "cell_type": "code",
   "execution_count": 14,
   "metadata": {},
   "outputs": [],
   "source": [
    "def count_sarcasm(file_name):\n",
    "    with open(file_name, 'r') as f:\n",
    "        data = json.load(f)\n",
    "    count_map = {\n",
    "        \"not-sarcasm\": 0,\n",
    "        \"multi-sarcasm\": 0,\n",
    "        \"text-sarcasm\": 0,\n",
    "        \"image-sarcasm\": 0\n",
    "    }\n",
    "    for label in data[\"results\"].values():\n",
    "        count_map[label] += 1\n",
    "    return count_map"
   ]
  },
  {
   "cell_type": "code",
   "execution_count": 17,
   "metadata": {},
   "outputs": [
    {
     "data": {
      "text/plain": [
       "['private_vintern_v1_1_epoch4',\n",
       " 'private_vintern_v1_1_epoch5',\n",
       " 'private_vintern_v1_1_epoch6',\n",
       " 'private_vintern_v1_1_epoch7',\n",
       " 'private_vintern_v1_epoch3',\n",
       " 'private_vintern_v1_epoch5',\n",
       " 'private_vintern_v2_epoch2',\n",
       " 'Vintern_private_yes_no_ova_v1_epoch2']"
      ]
     },
     "execution_count": 17,
     "metadata": {},
     "output_type": "execute_result"
    }
   ],
   "source": [
    "private_results"
   ]
  },
  {
   "cell_type": "code",
   "execution_count": 18,
   "metadata": {},
   "outputs": [],
   "source": [
    "import pandas as pd\n",
    "\n",
    "# create a table with the columns is name of the file and the col is 4 sarcasm type\n",
    "\n",
    "def create_table(names, all_results):\n",
    "    data = []\n",
    "    for i in range(len(names)):\n",
    "        count_map = count_sarcasm(f\"result_private_test/{names[i]}.json\")\n",
    "        data.append([names[i], count_map[\"not-sarcasm\"], count_map[\"multi-sarcasm\"], count_map[\"text-sarcasm\"], count_map[\"image-sarcasm\"]])\n",
    "    return pd.DataFrame(data, columns=[\"name\", \"not-sarcasm\", \"multi-sarcasm\", \"text-sarcasm\", \"image-sarcasm\"])"
   ]
  },
  {
   "cell_type": "code",
   "execution_count": 20,
   "metadata": {},
   "outputs": [
    {
     "data": {
      "text/html": [
       "<div>\n",
       "<style scoped>\n",
       "    .dataframe tbody tr th:only-of-type {\n",
       "        vertical-align: middle;\n",
       "    }\n",
       "\n",
       "    .dataframe tbody tr th {\n",
       "        vertical-align: top;\n",
       "    }\n",
       "\n",
       "    .dataframe thead th {\n",
       "        text-align: right;\n",
       "    }\n",
       "</style>\n",
       "<table border=\"1\" class=\"dataframe\">\n",
       "  <thead>\n",
       "    <tr style=\"text-align: right;\">\n",
       "      <th></th>\n",
       "      <th>name</th>\n",
       "      <th>not-sarcasm</th>\n",
       "      <th>multi-sarcasm</th>\n",
       "      <th>text-sarcasm</th>\n",
       "      <th>image-sarcasm</th>\n",
       "    </tr>\n",
       "  </thead>\n",
       "  <tbody>\n",
       "    <tr>\n",
       "      <th>0</th>\n",
       "      <td>private_vintern_v1_1_epoch4</td>\n",
       "      <td>553</td>\n",
       "      <td>936</td>\n",
       "      <td>0</td>\n",
       "      <td>15</td>\n",
       "    </tr>\n",
       "    <tr>\n",
       "      <th>1</th>\n",
       "      <td>private_vintern_v1_1_epoch5</td>\n",
       "      <td>570</td>\n",
       "      <td>912</td>\n",
       "      <td>0</td>\n",
       "      <td>22</td>\n",
       "    </tr>\n",
       "    <tr>\n",
       "      <th>2</th>\n",
       "      <td>private_vintern_v1_1_epoch6</td>\n",
       "      <td>581</td>\n",
       "      <td>899</td>\n",
       "      <td>0</td>\n",
       "      <td>24</td>\n",
       "    </tr>\n",
       "    <tr>\n",
       "      <th>3</th>\n",
       "      <td>private_vintern_v1_1_epoch7</td>\n",
       "      <td>583</td>\n",
       "      <td>893</td>\n",
       "      <td>0</td>\n",
       "      <td>28</td>\n",
       "    </tr>\n",
       "    <tr>\n",
       "      <th>4</th>\n",
       "      <td>private_vintern_v1_epoch3</td>\n",
       "      <td>523</td>\n",
       "      <td>981</td>\n",
       "      <td>0</td>\n",
       "      <td>0</td>\n",
       "    </tr>\n",
       "    <tr>\n",
       "      <th>5</th>\n",
       "      <td>private_vintern_v1_epoch5</td>\n",
       "      <td>575</td>\n",
       "      <td>892</td>\n",
       "      <td>0</td>\n",
       "      <td>37</td>\n",
       "    </tr>\n",
       "    <tr>\n",
       "      <th>6</th>\n",
       "      <td>private_vintern_v2_epoch2</td>\n",
       "      <td>545</td>\n",
       "      <td>959</td>\n",
       "      <td>0</td>\n",
       "      <td>0</td>\n",
       "    </tr>\n",
       "  </tbody>\n",
       "</table>\n",
       "</div>"
      ],
      "text/plain": [
       "                          name  not-sarcasm  multi-sarcasm  text-sarcasm  \\\n",
       "0  private_vintern_v1_1_epoch4          553            936             0   \n",
       "1  private_vintern_v1_1_epoch5          570            912             0   \n",
       "2  private_vintern_v1_1_epoch6          581            899             0   \n",
       "3  private_vintern_v1_1_epoch7          583            893             0   \n",
       "4    private_vintern_v1_epoch3          523            981             0   \n",
       "5    private_vintern_v1_epoch5          575            892             0   \n",
       "6    private_vintern_v2_epoch2          545            959             0   \n",
       "\n",
       "   image-sarcasm  \n",
       "0             15  \n",
       "1             22  \n",
       "2             24  \n",
       "3             28  \n",
       "4              0  \n",
       "5             37  \n",
       "6              0  "
      ]
     },
     "execution_count": 20,
     "metadata": {},
     "output_type": "execute_result"
    }
   ],
   "source": [
    "create_table(private_results[:-1], all_results)"
   ]
  },
  {
   "cell_type": "code",
   "execution_count": 21,
   "metadata": {},
   "outputs": [],
   "source": [
    "def transform_submit_2(best_result, best_result_2, best_result_3, yes_no):\n",
    "    transformed_labels = []\n",
    "    for i in range(len(best_result)):\n",
    "        label1 = best_result[i]\n",
    "        label2 = best_result_2[i]\n",
    "        label3 = best_result_3[i]\n",
    "        yes_no_label = yes_no[i]\n",
    "\n",
    "        # Initialize the transformed label with the first result as default\n",
    "        transformed_label = label1\n",
    "\n",
    "        # Conditions for 'multi-sarcasm'\n",
    "        if (\n",
    "            # not-sarcasm not-sarcasm not-sarcasm Yes: 48\n",
    "            (label1 == 'not-sarcasm' and label2 == 'not-sarcasm' and label3 == 'not-sarcasm' and yes_no_label == 'Yes') or\n",
    "            # not-sarcasm multi-sarcasm multi-sarcasm Yes: 30\n",
    "            (label1 == 'not-sarcasm' and label2 == 'multi-sarcasm' and label3 == 'multi-sarcasm' and yes_no_label == 'Yes') or\n",
    "            # not-sarcasm not-sarcasm multi-sarcasm No: 6\n",
    "            (label1 == 'not-sarcasm' and label2 == 'not-sarcasm' and label3 == 'multi-sarcasm' and yes_no_label == 'No') or\n",
    "            # not-sarcasm multi-sarcasm not-sarcasm Yes: 18\n",
    "            (label1 == 'not-sarcasm' and label2 == 'multi-sarcasm' and label3 == 'not-sarcasm' and yes_no_label == 'Yes') or\n",
    "            # not-sarcasm image-sarcasm multi-sarcasm Yes: 2\n",
    "            (label1 == 'not-sarcasm' and label2 == 'image-sarcasm' and label3 == 'multi-sarcasm' and yes_no_label == 'Yes') or\n",
    "            # not-sarcasm multi-sarcasm image-sarcasm No: 1\n",
    "            (label1 == 'not-sarcasm' and label2 == 'multi-sarcasm' and label3 == 'image-sarcasm' and yes_no_label == 'No') or\n",
    "            # not-sarcasm not-sarcasm image-sarcasm Yes: 2\n",
    "            (label1 == 'not-sarcasm' and label2 == 'not-sarcasm' and label3 == 'image-sarcasm' and yes_no_label == 'Yes') or\n",
    "            # not-sarcasm not-sarcasm multi-sarcasm Yes: 3\n",
    "            (label1 == 'not-sarcasm' and label2 == 'not-sarcasm' and label3 == 'multi-sarcasm' and yes_no_label == 'Yes') or\n",
    "            # not-sarcasm image-sarcasm not-sarcasm Yes: 1\n",
    "            (label1 == 'not-sarcasm' and label2 == 'image-sarcasm' and label3 == 'not-sarcasm' and yes_no_label == 'Yes')\n",
    "        ):\n",
    "            transformed_label = 'multi-sarcasm'\n",
    "\n",
    "        # Conditions for 'not-sarcasm'\n",
    "        elif (\n",
    "            # multi-sarcasm multi-sarcasm multi-sarcasm No: 19\n",
    "            (label1 == 'multi-sarcasm' and label2 == 'multi-sarcasm' and label3 == 'multi-sarcasm' and yes_no_label == 'No') or\n",
    "            # multi-sarcasm not-sarcasm not-sarcasm No: 17\n",
    "            (label1 == 'multi-sarcasm' and label2 == 'not-sarcasm' and label3 == 'not-sarcasm' and yes_no_label == 'No') or\n",
    "            # image-sarcasm multi-sarcasm multi-sarcasm Yes: 2\n",
    "            (label1 == 'image-sarcasm' and label2 == 'multi-sarcasm' and label3 == 'multi-sarcasm' and yes_no_label == 'Yes')\n",
    "        ):\n",
    "            transformed_label = 'not-sarcasm'\n",
    "\n",
    "        # Conditions for 'image-sarcasm'\n",
    "        elif (\n",
    "            # image-sarcasm image-sarcasm image-sarcasm Yes: 6\n",
    "            (label1 == 'image-sarcasm' and label2 == 'image-sarcasm' and label3 == 'image-sarcasm' and yes_no_label == 'Yes') or\n",
    "            # not-sarcasm image-sarcasm image-sarcasm Yes: 2\n",
    "            (label1 == 'not-sarcasm' and label2 == 'image-sarcasm' and label3 == 'image-sarcasm' and yes_no_label == 'Yes') or\n",
    "            # multi-sarcasm multi-sarcasm not-sarcasm No: 1\n",
    "            (label1 == 'multi-sarcasm' and label2 == 'multi-sarcasm' and label3 == 'not-sarcasm' and yes_no_label == 'No')\n",
    "        ):\n",
    "            transformed_label = 'image-sarcasm'\n",
    "\n",
    "        # Append the transformed label\n",
    "        transformed_labels.append(transformed_label)\n",
    "\n",
    "    return transformed_labels"
   ]
  },
  {
   "cell_type": "code",
   "execution_count": 66,
   "metadata": {},
   "outputs": [],
   "source": [
    "def transform_submit(best_result, best_result_2, yes_no):\n",
    "    transformed_labels = []\n",
    "    for i in range(len(best_result)):\n",
    "        transformed_labels.append(best_result[i])\n",
    "        if best_result[i] == \"not-sarcasm\" and best_result_2[i] == \"not-sarcasm\" and yes_no[i] == \"Yes\":\n",
    "            transformed_labels[i] = \"multi-sarcasm\"\n",
    "        elif best_result[i] == \"not-sarcasm\" and best_result_2[i] == \"multi-sarcasm\" and yes_no[i] == \"Yes\":\n",
    "            transformed_labels[i] = \"multi-sarcasm\"\n",
    "        elif best_result[i] == \"multi-sarcasm\" and best_result_2[i] == \"multi-sarcasm\" and yes_no[i] == \"No\":\n",
    "            transformed_labels[i] = \"not-sarcasm\"\n",
    "        elif best_result[i] == \"not-sarcasm\" and best_result_2[i] == \"image-sarcasm\" and yes_no[i] == \"Yes\":\n",
    "            transformed_labels[i] = \"image-sarcasm\"\n",
    "        elif best_result[i] == \"multi-sarcasm\" and best_result_2[i] == \"image-sarcasm\" and yes_no[i] == \"Yes\":\n",
    "            transformed_labels[i] = \"image-sarcasm\"\n",
    "    return transformed_labels"
   ]
  },
  {
   "cell_type": "code",
   "execution_count": 118,
   "metadata": {},
   "outputs": [],
   "source": [
    "def old_transform_submit(best_result, yes_no):\n",
    "    transformed_labels = []\n",
    "    for i in range(len(best_result)):\n",
    "        transformed_labels.append(best_result[i])\n",
    "        if best_result[i] == \"multi-sarcasm\" and yes_no[i] == \"No\":\n",
    "            transformed_labels[i] = \"not-sarcasm\"\n",
    "        elif best_result[i] == \"not-sarcasm\" and yes_no[i] == \"Yes\":\n",
    "            transformed_labels[i] = \"multi-sarcasm\"\n",
    "    return transformed_labels"
   ]
  },
  {
   "cell_type": "code",
   "execution_count": null,
   "metadata": {},
   "outputs": [],
   "source": [
    "# vintern_v1_1_epoch6\n",
    "\n",
    "name_best_result = \"private_vintern_v1_1_epoch6\"\n",
    "name_best_results_2 = \"private_vintern_v1_epoch5\"\n",
    "name_best_results_3 = \"private_vintern_v1_1_epoch7\"\n",
    "name_yes_no = \"Vintern_private_yes_no_ova_v1_epoch2\"\n",
    "\n",
    "with open(f\"result_private_test/{name_best_result}.json\", 'r') as f:\n",
    "    data = json.load(f)\n",
    "    best_result = list(data[\"results\"].values())\n",
    "    \n",
    "with open(f\"result_private_test/{name_best_results_2}.json\", 'r') as f:\n",
    "    data = json.load(f)\n",
    "    best_results_2 = list(data[\"results\"].values())\n",
    "\n",
    "with open(f\"result_private_test/{name_best_results_3}.json\", 'r') as f:\n",
    "    data = json.load(f)\n",
    "    best_results_3 = list(data[\"results\"].values())\n",
    "    \n",
    "with open(f\"result_private_test/{name_yes_no}.json\", 'r') as f:\n",
    "    data = json.load(f)\n",
    "    yes_no = list(data[\"results\"].values())\n",
    "\n"
   ]
  },
  {
   "cell_type": "code",
   "execution_count": 90,
   "metadata": {},
   "outputs": [
    {
     "data": {
      "text/plain": [
       "Counter({'multi-sarcasm': 1012, 'not-sarcasm': 469, 'image-sarcasm': 23})"
      ]
     },
     "execution_count": 90,
     "metadata": {},
     "output_type": "execute_result"
    }
   ],
   "source": [
    "final_result = transform_submit_2(best_result, best_results_2, best_results_3, yes_no)\n",
    "# count final results \n",
    "from collections import Counter\n",
    "Counter(final_result)"
   ]
  },
  {
   "cell_type": "code",
   "execution_count": null,
   "metadata": {},
   "outputs": [
    {
     "data": {
      "text/plain": [
       "Counter({'multi-sarcasm': 1017, 'not-sarcasm': 455, 'image-sarcasm': 32})"
      ]
     },
     "execution_count": 81,
     "metadata": {},
     "output_type": "execute_result"
    }
   ],
   "source": [
    "final_result = transform_submit(best_result, best_results_2, yes_no)\n",
    "# count final results \n",
    "from collections import Counter\n",
    "Counter(final_result)"
   ]
  },
  {
   "cell_type": "code",
   "execution_count": 137,
   "metadata": {},
   "outputs": [
    {
     "data": {
      "text/plain": [
       "Counter({'multi-sarcasm': 999, 'not-sarcasm': 481, 'image-sarcasm': 24})"
      ]
     },
     "execution_count": 137,
     "metadata": {},
     "output_type": "execute_result"
    }
   ],
   "source": [
    "final_result = old_transform_submit(best_result, yes_no)\n",
    "# count final results \n",
    "from collections import Counter\n",
    "Counter(final_result)"
   ]
  },
  {
   "cell_type": "code",
   "execution_count": 138,
   "metadata": {},
   "outputs": [],
   "source": [
    "results = {}\n",
    "results[\"results\"] = {}\n",
    "results[\"phase\"] = \"test\"\n",
    "\n",
    "for i in range(len(final_result)):\n",
    "    results[\"results\"][str(i)] = final_result[i]\n",
    "with open(f\"submissions_private_test/val_best_{name_best_result}_not_{name_yes_no}_results.json\", \"w\") as out:\n",
    "    json.dump(results, out)"
   ]
  },
  {
   "cell_type": "code",
   "execution_count": 150,
   "metadata": {},
   "outputs": [
    {
     "data": {
      "text/plain": [
       "Counter({'multi-sarcasm': 999, 'not-sarcasm': 481, 'image-sarcasm': 24})"
      ]
     },
     "execution_count": 150,
     "metadata": {},
     "output_type": "execute_result"
    }
   ],
   "source": [
    "with open(\"submissions_private_test/val_best_private_vintern_v1_1_epoch6_not_Vintern_private_yes_no_ova_v1_epoch2_results.json\") as f:\n",
    "    data = json.load(f)\n",
    "    \n",
    "Counter(list(data[\"results\"].values()))"
   ]
  }
 ],
 "metadata": {
  "kernelspec": {
   "display_name": "base",
   "language": "python",
   "name": "python3"
  },
  "language_info": {
   "codemirror_mode": {
    "name": "ipython",
    "version": 3
   },
   "file_extension": ".py",
   "mimetype": "text/x-python",
   "name": "python",
   "nbconvert_exporter": "python",
   "pygments_lexer": "ipython3",
   "version": "3.11.9"
  }
 },
 "nbformat": 4,
 "nbformat_minor": 2
}
