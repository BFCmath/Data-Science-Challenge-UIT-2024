{
 "cells": [
  {
   "cell_type": "code",
   "execution_count": 1,
   "metadata": {},
   "outputs": [
    {
     "name": "stdout",
     "output_type": "stream",
     "text": [
      "D:\\uitds\n"
     ]
    }
   ],
   "source": [
    "%cd D:/uitds"
   ]
  },
  {
   "cell_type": "code",
   "execution_count": 2,
   "metadata": {},
   "outputs": [],
   "source": [
    "from collections import Counter\n",
    "from sklearn.metrics import accuracy_score, f1_score, precision_score, recall_score"
   ]
  },
  {
   "cell_type": "code",
   "execution_count": 3,
   "metadata": {},
   "outputs": [],
   "source": [
    "import json\n",
    "\n",
    "# read json file\n",
    "name_not = \"v1_epoch2\"\n",
    "name_best1 = \"v3_epoch3\"\n",
    "name_best2 = \"v2_epoch3\"\n",
    "name_best3 = \"v1_1_epoch4\"\n",
    "# vilt_file = \"train_vilt_pooler_weighted_CE_9.json\"\n",
    "yes_no_file = f\"result_ova/Vintern_test_yes_no_ova_{name_not}.json\"\n",
    "image_ova_file = \"result_ova/Vintern_test_image_yes_no_ova_v1_epoch4.json\"\n",
    "text_ova_file = \"result_ova/Vintern_test_text_ova_v1_epoch5.json\"\n",
    "multi_file = \"result_ova/Vintern_test_multi_yes_no_ova_v1_epoch2.json\"\n",
    "\n",
    "best_result_file = f\"result_test_val/test_vintern_{name_best1}.json\"\n",
    "best_result_2_file = f\"result_test_val/test_vintern_{name_best2}.json\"\n",
    "best_result_3_file = f\"result_test_val/test_vintern_{name_best3}.json\"\n",
    "# image_ova_file = \"Vintern_test_image_ova_v1_epoch6_1.json\"\n",
    "\n",
    "with open(image_ova_file) as ova_image,\\\n",
    "        open(text_ova_file) as ova_text,\\\n",
    "        open(best_result_file) as best_result,\\\n",
    "        open(yes_no_file) as yes_no,\\\n",
    "        open(multi_file) as multi_ova,\\\n",
    "        open(best_result_2_file) as best_result_2,\\\n",
    "        open(best_result_3_file) as best_result_3:\n",
    "    image_ova = json.load(ova_image)\n",
    "    text_ova = json.load(ova_text)\n",
    "    yes_no = json.load(yes_no)\n",
    "    multi_ova = json.load(multi_ova)\n",
    "    best_result = json.load(best_result)\n",
    "    best_result_2 = json.load(best_result_2)\n",
    "    best_result_3 = json.load(best_result_3)"
   ]
  },
  {
   "cell_type": "code",
   "execution_count": 4,
   "metadata": {},
   "outputs": [],
   "source": [
    "# # read txt file: data\\train_val_group_split.txt\n",
    "# TXT_PATH = \"data/train_val_group_split.txt\"\n",
    "\n",
    "# def read_train_test_file(name_file):\n",
    "    \n",
    "#     with open(name_file, 'r') as f:\n",
    "#         lines = f.readlines()\n",
    "#         num_train, num_val = int(lines[0].split()[0]), int(lines[0].split()[1])\n",
    "#         train_idx = list(map(int, lines[1].split()))\n",
    "#         val_idx = list(map(int, lines[2].split()))\n",
    "#     return num_train, num_val, train_idx, val_idx\n",
    "\n",
    "# num_train, num_val, train_idx, val_idx = read_train_test_file(TXT_PATH)\n",
    "\n",
    "# import json\n",
    "# JSON_PATH = \"data/json/vimmsd-train.json\"\n",
    "\n",
    "# json_file = open(JSON_PATH, 'r')\n",
    "# json_data = json.load(json_file)\n",
    "# labels = [json_data[str(i)][\"label\"] for i in val_idx]\n"
   ]
  },
  {
   "cell_type": "code",
   "execution_count": 5,
   "metadata": {},
   "outputs": [],
   "source": [
    "import pandas as pd\n",
    "\n",
    "df = pd.DataFrame({'image_ova': image_ova[\"results\"].values(), 'text_ova': text_ova[\"results\"].values(),'yes_no':yes_no[\"results\"].values(), 'multi_ova': multi_ova[\"results\"].values(),'best_result': best_result[\"results\"].values(),'best_result_2': best_result_2[\"results\"].values(), 'best_result_3': best_result_3[\"results\"].values()})"
   ]
  },
  {
   "cell_type": "code",
   "execution_count": 6,
   "metadata": {},
   "outputs": [
    {
     "data": {
      "text/html": [
       "<div>\n",
       "<style scoped>\n",
       "    .dataframe tbody tr th:only-of-type {\n",
       "        vertical-align: middle;\n",
       "    }\n",
       "\n",
       "    .dataframe tbody tr th {\n",
       "        vertical-align: top;\n",
       "    }\n",
       "\n",
       "    .dataframe thead th {\n",
       "        text-align: right;\n",
       "    }\n",
       "</style>\n",
       "<table border=\"1\" class=\"dataframe\">\n",
       "  <thead>\n",
       "    <tr style=\"text-align: right;\">\n",
       "      <th></th>\n",
       "      <th>image_ova</th>\n",
       "      <th>text_ova</th>\n",
       "      <th>yes_no</th>\n",
       "      <th>multi_ova</th>\n",
       "      <th>best_result</th>\n",
       "      <th>best_result_2</th>\n",
       "      <th>best_result_3</th>\n",
       "    </tr>\n",
       "  </thead>\n",
       "  <tbody>\n",
       "    <tr>\n",
       "      <th>0</th>\n",
       "      <td>No</td>\n",
       "      <td>text-sarcasm</td>\n",
       "      <td>Yes</td>\n",
       "      <td>Yes</td>\n",
       "      <td>multi-sarcasm</td>\n",
       "      <td>multi-sarcasm</td>\n",
       "      <td>multi-sarcasm</td>\n",
       "    </tr>\n",
       "    <tr>\n",
       "      <th>1</th>\n",
       "      <td>No</td>\n",
       "      <td>text-sarcasm</td>\n",
       "      <td>Yes</td>\n",
       "      <td>Yes</td>\n",
       "      <td>multi-sarcasm</td>\n",
       "      <td>multi-sarcasm</td>\n",
       "      <td>multi-sarcasm</td>\n",
       "    </tr>\n",
       "    <tr>\n",
       "      <th>2</th>\n",
       "      <td>No</td>\n",
       "      <td>not-text-sarcasm</td>\n",
       "      <td>No</td>\n",
       "      <td>No</td>\n",
       "      <td>not-sarcasm</td>\n",
       "      <td>not-sarcasm</td>\n",
       "      <td>not-sarcasm</td>\n",
       "    </tr>\n",
       "    <tr>\n",
       "      <th>3</th>\n",
       "      <td>No</td>\n",
       "      <td>not-text-sarcasm</td>\n",
       "      <td>Yes</td>\n",
       "      <td>No</td>\n",
       "      <td>multi-sarcasm</td>\n",
       "      <td>multi-sarcasm</td>\n",
       "      <td>not-sarcasm</td>\n",
       "    </tr>\n",
       "    <tr>\n",
       "      <th>4</th>\n",
       "      <td>No</td>\n",
       "      <td>not-text-sarcasm</td>\n",
       "      <td>No</td>\n",
       "      <td>No</td>\n",
       "      <td>not-sarcasm</td>\n",
       "      <td>not-sarcasm</td>\n",
       "      <td>multi-sarcasm</td>\n",
       "    </tr>\n",
       "  </tbody>\n",
       "</table>\n",
       "</div>"
      ],
      "text/plain": [
       "  image_ova          text_ova yes_no multi_ova    best_result  best_result_2  \\\n",
       "0        No      text-sarcasm    Yes       Yes  multi-sarcasm  multi-sarcasm   \n",
       "1        No      text-sarcasm    Yes       Yes  multi-sarcasm  multi-sarcasm   \n",
       "2        No  not-text-sarcasm     No        No    not-sarcasm    not-sarcasm   \n",
       "3        No  not-text-sarcasm    Yes        No  multi-sarcasm  multi-sarcasm   \n",
       "4        No  not-text-sarcasm     No        No    not-sarcasm    not-sarcasm   \n",
       "\n",
       "   best_result_3  \n",
       "0  multi-sarcasm  \n",
       "1  multi-sarcasm  \n",
       "2    not-sarcasm  \n",
       "3    not-sarcasm  \n",
       "4  multi-sarcasm  "
      ]
     },
     "execution_count": 6,
     "metadata": {},
     "output_type": "execute_result"
    }
   ],
   "source": [
    "df.head()"
   ]
  },
  {
   "cell_type": "code",
   "execution_count": 7,
   "metadata": {},
   "outputs": [],
   "source": [
    "def pair_count(*input_dicts):\n",
    "    \"\"\"\n",
    "    Count pairs/groups from multiple input dictionaries\n",
    "    Args:\n",
    "        *input_dicts: Variable number of dictionaries, each with a 'results' key\n",
    "    Returns:\n",
    "        Dictionary with combined labels as keys and lists of indices as values\n",
    "    \"\"\"\n",
    "    pair_best = {}\n",
    "    \n",
    "    # Get the number of results from the first dictionary\n",
    "    n_results = len(input_dicts[0])\n",
    "    \n",
    "    for i in range(n_results):\n",
    "        # Collect labels from all input dictionaries\n",
    "        labels = []\n",
    "        for input_dict in input_dicts:\n",
    "            labels.append(input_dict[i])\n",
    "            \n",
    "        # Create key by joining all labels\n",
    "        pair_key = \" /\".join(labels)\n",
    "        \n",
    "        # Add to pair_best dictionary\n",
    "        if pair_key in pair_best:\n",
    "            pair_best[pair_key].append(i)\n",
    "        else:\n",
    "            pair_best[pair_key] = [i]\n",
    "            \n",
    "    return pair_best"
   ]
  },
  {
   "cell_type": "code",
   "execution_count": 8,
   "metadata": {},
   "outputs": [
    {
     "data": {
      "text/plain": [
       "[('multi-sarcasm /multi-sarcasm /Yes', 835),\n",
       " ('not-sarcasm /not-sarcasm /No', 338),\n",
       " ('not-sarcasm /multi-sarcasm /No', 19),\n",
       " ('multi-sarcasm /not-sarcasm /Yes', 77),\n",
       " ('not-sarcasm /multi-sarcasm /Yes', 26),\n",
       " ('multi-sarcasm /not-sarcasm /No', 28),\n",
       " ('not-sarcasm /not-sarcasm /Yes', 59),\n",
       " ('multi-sarcasm /image-sarcasm /Yes', 5),\n",
       " ('multi-sarcasm /multi-sarcasm /No', 20),\n",
       " ('image-sarcasm /multi-sarcasm /Yes', 2),\n",
       " ('multi-sarcasm /image-sarcasm /No', 1),\n",
       " ('not-sarcasm /image-sarcasm /Yes', 3)]"
      ]
     },
     "execution_count": 8,
     "metadata": {},
     "output_type": "execute_result"
    }
   ],
   "source": [
    "[(i,len(v)) for (i,v) in pair_count(df[\"best_result\"],df[\"best_result_2\"],df[\"yes_no\"]).items()]"
   ]
  },
  {
   "cell_type": "code",
   "execution_count": 9,
   "metadata": {},
   "outputs": [],
   "source": [
    "def old_transform_submit(best_result, yes_no):\n",
    "    transformed_labels = []\n",
    "    for i in range(len(best_result)):\n",
    "        transformed_labels.append(best_result[i])\n",
    "        if best_result[i] == \"multi-sarcasm\" and yes_no[i] == \"No\":\n",
    "            transformed_labels[i] = \"not-sarcasm\"\n",
    "        elif best_result[i] == \"not-sarcasm\" and yes_no[i] == \"Yes\":\n",
    "            transformed_labels[i] = \"multi-sarcasm\"\n",
    "    return transformed_labels"
   ]
  },
  {
   "cell_type": "code",
   "execution_count": 10,
   "metadata": {},
   "outputs": [],
   "source": [
    "def transform_submit(best_result, best_result_2,best_result_3, yes_no):\n",
    "    transformed_labels = []\n",
    "    for i in range(len(best_result)):\n",
    "        transformed_labels.append(best_result[i])\n",
    "        # image-sarcasm\n",
    "        #     not-sarcasm not-sarcasm image-sarcasm Yes: 2\n",
    "        #     not-sarcasm multi-sarcasm image-sarcasm Yes: 1\n",
    "        if(best_result[i] == \"not-sarcasm\" and best_result_2[i] == \"not-sarcasm\" and best_result_3[i] == \"image-sarcasm\" and yes_no[i] == \"Yes\"):\n",
    "            transformed_labels[i] = \"image-sarcasm\" \n",
    "        elif(best_result[i] == \"not-sarcasm\" and best_result_2[i] == \"multi-sarcasm\" and best_result_3[i] == \"image-sarcasm\" and yes_no[i] == \"Yes\"):\n",
    "            transformed_labels[i] = \"image-sarcasm\"\n",
    "        # not-sarcasm\n",
    "        #     multi-sarcasm not-sarcasm multi-sarcasm No: 13\n",
    "        #     multi-sarcasm not-sarcasm not-sarcasm No: 29\n",
    "        #     multi-sarcasm multi-sarcasm multi-sarcasm No: 13\n",
    "        #     image-sarcasm not-sarcasm image-sarcasm No: 2\n",
    "        #     multi-sarcasm multi-sarcasm not-sarcasm No: 9 \n",
    "        elif(best_result[i] == \"multi-sarcasm\" and best_result_2[i] == \"not-sarcasm\" and best_result_3[i] == \"multi-sarcasm\" and yes_no[i] == \"No\"):\n",
    "            transformed_labels[i] = \"not-sarcasm\"\n",
    "        elif(best_result[i] == \"multi-sarcasm\" and best_result_2[i] == \"not-sarcasm\" and best_result_3[i] == \"not-sarcasm\" and yes_no[i] == \"No\"):\n",
    "            transformed_labels[i] = \"not-sarcasm\"\n",
    "        elif(best_result[i] == \"multi-sarcasm\" and best_result_2[i] == \"multi-sarcasm\" and best_result_3[i] == \"multi-sarcasm\" and yes_no[i] == \"No\"):\n",
    "            transformed_labels[i] = \"not-sarcasm\"\n",
    "        elif(best_result[i] == \"image-sarcasm\" and best_result_2[i] == \"not-sarcasm\" and best_result_3[i] == \"image-sarcasm\" and yes_no[i] == \"No\"):\n",
    "            transformed_labels[i] = \"not-sarcasm\"\n",
    "        elif(best_result[i] == \"multi-sarcasm\" and best_result_2[i] == \"multi-sarcasm\" and best_result_3[i] == \"not-sarcasm\" and yes_no[i] == \"No\"):\n",
    "            transformed_labels[i] = \"not-sarcasm\"\n",
    "        # multi-sarcasm\n",
    "        #     not-sarcasm not-sarcasm multi-sarcasm Yes: 14\n",
    "        #     not-sarcasm multi-sarcasm multi-sarcasm Yes: 29\n",
    "        #     not-sarcasm not-sarcasm not-sarcasm Yes: 31\n",
    "        #     not-sarcasm multi-sarcasm not-sarcasm Yes: 18\n",
    "        #     not-sarcasm image-sarcasm multi-sarcasm Yes: 1\n",
    "        #     not-sarcasm image-sarcasm image-sarcasm Yes: 1\n",
    "        elif(best_result[i] == \"not-sarcasm\" and best_result_2[i] == \"not-sarcasm\" and best_result_3[i] == \"multi-sarcasm\" and yes_no[i] == \"Yes\"):\n",
    "            transformed_labels[i] = \"multi-sarcasm\"\n",
    "        elif(best_result[i] == \"not-sarcasm\" and best_result_2[i] == \"multi-sarcasm\" and best_result_3[i] == \"multi-sarcasm\" and yes_no[i] == \"Yes\"):\n",
    "            transformed_labels[i] = \"multi-sarcasm\"\n",
    "        elif(best_result[i] == \"not-sarcasm\" and best_result_2[i] == \"not-sarcasm\" and best_result_3[i] == \"not-sarcasm\" and yes_no[i] == \"Yes\"):\n",
    "            transformed_labels[i] = \"multi-sarcasm\"\n",
    "        elif(best_result[i] == \"not-sarcasm\" and best_result_2[i] == \"multi-sarcasm\" and best_result_3[i] == \"not-sarcasm\" and yes_no[i] == \"Yes\"):\n",
    "            transformed_labels[i] = \"multi-sarcasm\"\n",
    "        elif(best_result[i] == \"not-sarcasm\" and best_result_2[i] == \"image-sarcasm\" and best_result_3[i] == \"multi-sarcasm\" and yes_no[i] == \"Yes\"):\n",
    "            transformed_labels[i] = \"multi-sarcasm\"\n",
    "        elif(best_result[i] == \"not-sarcasm\" and best_result_2[i] == \"image-sarcasm\" and best_result_3[i] == \"image-sarcasm\" and yes_no[i] == \"Yes\"):\n",
    "            transformed_labels[i] = \"multi-sarcasm\"\n",
    "    return transformed_labels"
   ]
  },
  {
   "cell_type": "code",
   "execution_count": 11,
   "metadata": {},
   "outputs": [],
   "source": [
    "transformed_labels = transform_submit(df[\"best_result\"], df[\"best_result_2\"],df[\"best_result_3\"],df[\"yes_no\"])"
   ]
  },
  {
   "cell_type": "code",
   "execution_count": 12,
   "metadata": {},
   "outputs": [],
   "source": [
    "old_transformed_labels = old_transform_submit(df[\"best_result\"], df[\"yes_no\"])"
   ]
  },
  {
   "cell_type": "code",
   "execution_count": 13,
   "metadata": {},
   "outputs": [],
   "source": [
    "from collections import Counter"
   ]
  },
  {
   "cell_type": "code",
   "execution_count": 14,
   "metadata": {},
   "outputs": [
    {
     "data": {
      "text/plain": [
       "Counter({'multi-sarcasm': 966, 'not-sarcasm': 445, 'image-sarcasm': 2})"
      ]
     },
     "execution_count": 14,
     "metadata": {},
     "output_type": "execute_result"
    }
   ],
   "source": [
    "Counter(df[\"best_result\"])"
   ]
  },
  {
   "cell_type": "code",
   "execution_count": 15,
   "metadata": {},
   "outputs": [
    {
     "data": {
      "text/plain": [
       "Counter({'multi-sarcasm': 1005, 'not-sarcasm': 406, 'image-sarcasm': 2})"
      ]
     },
     "execution_count": 15,
     "metadata": {},
     "output_type": "execute_result"
    }
   ],
   "source": [
    "Counter(old_transformed_labels)"
   ]
  },
  {
   "cell_type": "code",
   "execution_count": 16,
   "metadata": {},
   "outputs": [
    {
     "data": {
      "text/plain": [
       "Counter({'multi-sarcasm': 1002, 'not-sarcasm': 405, 'image-sarcasm': 6})"
      ]
     },
     "execution_count": 16,
     "metadata": {},
     "output_type": "execute_result"
    }
   ],
   "source": [
    "yes_no_epoch2_results = {}\n",
    "yes_no_epoch2_results[\"results\"] = {}\n",
    "yes_no_epoch2_results[\"phase\"] = \"dev\"\n",
    "len(best_result[\"results\"]), len(yes_no_epoch2_results[\"results\"])\n",
    "for i in range(len(transformed_labels)):\n",
    "    yes_no_epoch2_results[\"results\"][str(i)] = transformed_labels[i]\n",
    "Counter(yes_no_epoch2_results[\"results\"].values())"
   ]
  },
  {
   "cell_type": "code",
   "execution_count": 17,
   "metadata": {},
   "outputs": [
    {
     "ename": "NameError",
     "evalue": "name 'b' is not defined",
     "output_type": "error",
     "traceback": [
      "\u001b[1;31m---------------------------------------------------------------------------\u001b[0m",
      "\u001b[1;31mNameError\u001b[0m                                 Traceback (most recent call last)",
      "Cell \u001b[1;32mIn[17], line 1\u001b[0m\n\u001b[1;32m----> 1\u001b[0m a \u001b[38;5;241m=\u001b[39m \u001b[43mb\u001b[49m \n",
      "\u001b[1;31mNameError\u001b[0m: name 'b' is not defined"
     ]
    }
   ],
   "source": [
    "a = b "
   ]
  },
  {
   "cell_type": "code",
   "execution_count": null,
   "metadata": {},
   "outputs": [],
   "source": [
    "# save the results\n",
    "with open(f\"merge_val/best_{name_best1}_best2_{name_best2}_best3_{name_best3}_not_{name_not}_results.json\", \"w\") as out:\n",
    "    json.dump(yes_no_epoch2_results, out)\n",
    "# save the results\n",
    "# with open(f\"merge_val/best_{name_best1}_not_{name_2}_results.json\", \"w\") as out:\n",
    "#     json.dump(yes_no_epoch2_results, out)"
   ]
  },
  {
   "cell_type": "code",
   "execution_count": null,
   "metadata": {},
   "outputs": [],
   "source": [
    "f\"best_{name_best1}_best2_{name_best2}_best3_{name_best3}_not_{name_not}\""
   ]
  }
 ],
 "metadata": {
  "kernelspec": {
   "display_name": "base",
   "language": "python",
   "name": "python3"
  },
  "language_info": {
   "codemirror_mode": {
    "name": "ipython",
    "version": 3
   },
   "file_extension": ".py",
   "mimetype": "text/x-python",
   "name": "python",
   "nbconvert_exporter": "python",
   "pygments_lexer": "ipython3",
   "version": "3.11.9"
  }
 },
 "nbformat": 4,
 "nbformat_minor": 2
}
