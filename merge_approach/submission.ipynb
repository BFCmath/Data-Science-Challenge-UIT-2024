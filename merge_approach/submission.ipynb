{
 "cells": [
  {
   "cell_type": "code",
   "execution_count": 13,
   "metadata": {},
   "outputs": [
    {
     "name": "stdout",
     "output_type": "stream",
     "text": [
      "D:\\uitds\n"
     ]
    }
   ],
   "source": [
    "%cd D:/uitds"
   ]
  },
  {
   "cell_type": "code",
   "execution_count": 14,
   "metadata": {},
   "outputs": [],
   "source": [
    "# function to create dir \n",
    "import os\n",
    "def create_dir(dir_name):\n",
    "    try:\n",
    "        os.mkdir(dir_name)\n",
    "    except FileExistsError:\n",
    "        print(\"Directory already exists\")\n",
    "    except Exception as e:\n",
    "        print(e)\n",
    "    else:\n",
    "        print(\"Directory created successfully\")\n",
    "    finally:\n",
    "        print(\"Exiting function\")"
   ]
  },
  {
   "cell_type": "code",
   "execution_count": null,
   "metadata": {},
   "outputs": [],
   "source": [
    "def copy_rename_zip(name, new_file_name, new_file_ext):\n",
    "    file_name = f\"merge_test/{name}_results.json\"\n",
    "    import shutil\n",
    "    import zipfile\n",
    "    import os\n",
    "    \n",
    "    dir_name = f\"submissions/{name}\"\n",
    "    create_dir(dir_name)\n",
    "    # concat dirname and new_file_name\n",
    "    new_file_path = os.path.join(dir_name, new_file_name)\n",
    "    full_file_path = new_file_path + new_file_ext\n",
    "    \n",
    "    try:\n",
    "        shutil.copy(file_name, full_file_path)\n",
    "    except FileNotFoundError:\n",
    "        print(\"File not found\")\n",
    "        # delete the directory if file not found\n",
    "        os.rmdir(dir_name)\n",
    "        return\n",
    "        \n",
    "    with zipfile.ZipFile(new_file_path + '.zip', 'w') as myzip:\n",
    "        # Use arcname to store only the filename without the path\n",
    "        myzip.write(full_file_path, arcname=new_file_name + new_file_ext)\n",
    "    return"
   ]
  },
  {
   "cell_type": "code",
   "execution_count": 16,
   "metadata": {},
   "outputs": [
    {
     "name": "stdout",
     "output_type": "stream",
     "text": [
      "Directory already exists\n",
      "Exiting function\n"
     ]
    }
   ],
   "source": [
    "copy_rename_zip(\"best_v3_epoch3_best2_v2_epoch3_best3_v1_1_epoch4_not_v1_epoch2\", \"results\", \".json\")"
   ]
  }
 ],
 "metadata": {
  "kernelspec": {
   "display_name": "base",
   "language": "python",
   "name": "python3"
  },
  "language_info": {
   "codemirror_mode": {
    "name": "ipython",
    "version": 3
   },
   "file_extension": ".py",
   "mimetype": "text/x-python",
   "name": "python",
   "nbconvert_exporter": "python",
   "pygments_lexer": "ipython3",
   "version": "3.11.9"
  }
 },
 "nbformat": 4,
 "nbformat_minor": 2
}
