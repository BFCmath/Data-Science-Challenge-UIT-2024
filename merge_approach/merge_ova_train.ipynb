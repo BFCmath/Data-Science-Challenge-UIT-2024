{
 "cells": [
  {
   "cell_type": "code",
   "execution_count": 1,
   "metadata": {},
   "outputs": [
    {
     "name": "stdout",
     "output_type": "stream",
     "text": [
      "D:\\uitds\n"
     ]
    }
   ],
   "source": [
    "%cd D:/uitds"
   ]
  },
  {
   "cell_type": "code",
   "execution_count": 2,
   "metadata": {},
   "outputs": [],
   "source": [
    "from collections import Counter"
   ]
  },
  {
   "cell_type": "code",
   "execution_count": 3,
   "metadata": {},
   "outputs": [],
   "source": [
    "import json\n",
    "\n",
    "# read json file\n",
    "image_ova_file = \"result_ova/Vintern_train_image_yes_no_ova_v1_epoch4.json\"\n",
    "text_ova_file = \"result_ova/Vintern_train_text_ova_v1_epoch5.json\"\n",
    "yes_no_file = \"result_ova/Vintern_train_yes_no_ova_v1_epoch2.json\"\n",
    "yes_no_2_file = \"result_ova/Vintern_train_v4_2_epoch3.json\"\n",
    "multi_file = \"result_ova/Vintern_train_multi_yes_no_ova_v1_epoch2.json\"\n",
    "\n",
    "best_result_file = \"result_test_val/train_vintern_v6_1_epoch4.json\" # \n",
    "best_result_2_file = \"result_test_val/train_vintern_v1_epoch5.json\"\n",
    "best_result_3_file = \"result_test_val/train_vintern_v1_1_epoch7.json\" # many not \n",
    "best_result_4_file = \"result_test_val/train_vintern_v3_epoch3.json\" # many not \n",
    "\n",
    "with open(image_ova_file) as ova_image,\\\n",
    "        open(text_ova_file) as ova_text,\\\n",
    "        open(best_result_file) as best_result,\\\n",
    "        open(yes_no_file) as yes_no,\\\n",
    "        open(multi_file) as multi_ova,\\\n",
    "        open(best_result_2_file) as best_result_2,\\\n",
    "        open(yes_no_2_file) as yes_no_2,\\\n",
    "        open(best_result_3_file) as best_result_3,\\\n",
    "        open(best_result_4_file) as best_result_4:\n",
    "    image_ova = json.load(ova_image)\n",
    "    text_ova = json.load(ova_text)\n",
    "    yes_no = json.load(yes_no)\n",
    "    multi_ova = json.load(multi_ova)\n",
    "    best_result = json.load(best_result)\n",
    "    best_result_2 = json.load(best_result_2)\n",
    "    best_result_3 = json.load(best_result_3)\n",
    "    best_result_4 = json.load(best_result_4)\n",
    "    yes_no_2 = json.load(yes_no_2)"
   ]
  },
  {
   "cell_type": "code",
   "execution_count": 4,
   "metadata": {},
   "outputs": [],
   "source": [
    "# read txt file: data\\train_val_group_split.txt\n",
    "TXT_PATH = \"data/train_val_group_split.txt\"\n",
    "\n",
    "def read_train_test_file(name_file):\n",
    "    \n",
    "    with open(name_file, 'r') as f:\n",
    "        lines = f.readlines()\n",
    "        num_train, num_val = int(lines[0].split()[0]), int(lines[0].split()[1])\n",
    "        train_idx = list(map(int, lines[1].split()))\n",
    "        val_idx = list(map(int, lines[2].split()))\n",
    "    return num_train, num_val, train_idx, val_idx\n",
    "\n",
    "num_train, num_val, train_idx, val_idx = read_train_test_file(TXT_PATH)\n",
    "\n",
    "import json\n",
    "JSON_PATH = \"data/json/vimmsd-train.json\"\n",
    "\n",
    "json_file = open(JSON_PATH, 'r')\n",
    "json_data = json.load(json_file)\n",
    "labels = [json_data[str(i)][\"label\"] for i in val_idx]\n"
   ]
  },
  {
   "cell_type": "code",
   "execution_count": 5,
   "metadata": {},
   "outputs": [],
   "source": [
    "import pandas as pd\n",
    "\n",
    "df = pd.DataFrame({'image_ova': image_ova[\"results\"].values(),\\\n",
    "    'text_ova': text_ova[\"results\"].values(),\\\n",
    "    'yes_no':yes_no[\"results\"].values(),\\\n",
    "    'best_result': best_result[\"results\"].values(),\\\n",
    "    'best_result_2': best_result_2[\"results\"].values(),\\\n",
    "    'best_result_3': best_result_3[\"results\"].values(),\\\n",
    "    'best_result_4': best_result_4[\"results\"].values(),\\\n",
    "    'multi_ova': multi_ova[\"results\"].values(),\\\n",
    "    'yes_no_2': yes_no_2[\"results\"].values(),\\\n",
    "    'label': labels})\n"
   ]
  },
  {
   "cell_type": "code",
   "execution_count": 6,
   "metadata": {},
   "outputs": [],
   "source": [
    "def pair_count(*input_dicts):\n",
    "    \"\"\"\n",
    "    Count pairs/groups from multiple input dictionaries\n",
    "    Args:\n",
    "        *input_dicts: Variable number of dictionaries, each with a 'results' key\n",
    "    Returns:\n",
    "        Dictionary with combined labels as keys and lists of indices as values\n",
    "    \"\"\"\n",
    "    pair_best = {}\n",
    "    \n",
    "    # Get the number of results from the first dictionary\n",
    "    n_results = len(input_dicts[0])\n",
    "    \n",
    "    for i in range(n_results):\n",
    "        # Collect labels from all input dictionaries\n",
    "        labels = []\n",
    "        for input_dict in input_dicts:\n",
    "            labels.append(input_dict[i])\n",
    "            \n",
    "        # Create key by joining all labels\n",
    "        pair_key = \" /\".join(labels)\n",
    "        \n",
    "        # Add to pair_best dictionary\n",
    "        if pair_key in pair_best:\n",
    "            pair_best[pair_key].append(i)\n",
    "        else:\n",
    "            pair_best[pair_key] = [i]\n",
    "            \n",
    "    return pair_best"
   ]
  },
  {
   "cell_type": "code",
   "execution_count": 7,
   "metadata": {},
   "outputs": [],
   "source": [
    "def pair_count_2(labels, *input_dicts):\n",
    "    \"\"\"\n",
    "    Count pairs/groups from multiple input dictionaries\n",
    "    Args:\n",
    "        *input_dicts: Variable number of dictionaries, each with a 'results' key\n",
    "    Returns:\n",
    "        Dictionary with combined labels as keys and lists of indices as values\n",
    "    \"\"\"\n",
    "    pair_best = {label:{} for label in labels}\n",
    "    \n",
    "    # Get the number of results from the first dictionary\n",
    "    n_results = len(input_dicts[0])\n",
    "    \n",
    "    for i in range(n_results):\n",
    "        # Collect labels from all input dictionaries\n",
    "        pred_labels = []\n",
    "        for input_dict in input_dicts:\n",
    "            pred_labels.append(input_dict[i])\n",
    "            \n",
    "        # Create key by joining all labels\n",
    "        pair_key= \" \".join(pred_labels)\n",
    "        \n",
    "        # Add to pair_best dictionary\n",
    "        if pair_key in pair_best[labels[i]]:\n",
    "            pair_best[labels[i]][pair_key] +=1\n",
    "        else:\n",
    "            pair_best[labels[i]][pair_key] = 1\n",
    "            \n",
    "    return pair_best"
   ]
  },
  {
   "cell_type": "code",
   "execution_count": 8,
   "metadata": {},
   "outputs": [
    {
     "name": "stdout",
     "output_type": "stream",
     "text": [
      "multi-sarcasm\n",
      "    multi-sarcasm multi-sarcasm multi-sarcasm Yes: 296\n",
      "    not-sarcasm not-sarcasm not-sarcasm No: 65\n",
      "    not-sarcasm not-sarcasm not-sarcasm Yes: 38\n",
      "    multi-sarcasm multi-sarcasm not-sarcasm Yes: 15\n",
      "    multi-sarcasm multi-sarcasm multi-sarcasm No: 13\n",
      "    not-sarcasm multi-sarcasm multi-sarcasm Yes: 22\n",
      "    multi-sarcasm not-sarcasm not-sarcasm Yes: 53\n",
      "    not-sarcasm multi-sarcasm not-sarcasm No: 8\n",
      "    not-sarcasm not-sarcasm multi-sarcasm No: 5\n",
      "    multi-sarcasm not-sarcasm multi-sarcasm Yes: 21\n",
      "    not-sarcasm multi-sarcasm multi-sarcasm No: 5\n",
      "    multi-sarcasm multi-sarcasm image-sarcasm Yes: 2\n",
      "    multi-sarcasm not-sarcasm not-sarcasm No: 8\n",
      "    not-sarcasm image-sarcasm image-sarcasm Yes: 5\n",
      "    multi-sarcasm image-sarcasm image-sarcasm Yes: 4\n",
      "    not-sarcasm image-sarcasm multi-sarcasm Yes: 2\n",
      "    multi-sarcasm image-sarcasm multi-sarcasm Yes: 4\n",
      "    not-sarcasm multi-sarcasm image-sarcasm No: 1\n",
      "    not-sarcasm not-sarcasm image-sarcasm Yes: 2\n",
      "    not-sarcasm multi-sarcasm not-sarcasm Yes: 16\n",
      "    not-sarcasm not-sarcasm multi-sarcasm Yes: 5\n",
      "    multi-sarcasm image-sarcasm multi-sarcasm No: 1\n",
      "    multi-sarcasm not-sarcasm multi-sarcasm No: 2\n",
      "    image-sarcasm multi-sarcasm multi-sarcasm Yes: 1\n",
      "    image-sarcasm image-sarcasm multi-sarcasm Yes: 1\n",
      "    not-sarcasm image-sarcasm multi-sarcasm No: 1\n",
      "    not-sarcasm image-sarcasm not-sarcasm Yes: 1\n",
      "    multi-sarcasm image-sarcasm not-sarcasm Yes: 1\n",
      "    multi-sarcasm multi-sarcasm not-sarcasm No: 1\n",
      "\n",
      "not-sarcasm\n",
      "    not-sarcasm not-sarcasm not-sarcasm No: 558\n",
      "    not-sarcasm multi-sarcasm not-sarcasm No: 22\n",
      "    multi-sarcasm multi-sarcasm multi-sarcasm Yes: 146\n",
      "    not-sarcasm multi-sarcasm multi-sarcasm Yes: 24\n",
      "    multi-sarcasm not-sarcasm not-sarcasm Yes: 35\n",
      "    multi-sarcasm multi-sarcasm multi-sarcasm No: 17\n",
      "    not-sarcasm not-sarcasm not-sarcasm Yes: 48\n",
      "    not-sarcasm image-sarcasm not-sarcasm No: 3\n",
      "    not-sarcasm multi-sarcasm multi-sarcasm No: 28\n",
      "    multi-sarcasm multi-sarcasm not-sarcasm No: 5\n",
      "    not-sarcasm not-sarcasm multi-sarcasm Yes: 3\n",
      "    not-sarcasm image-sarcasm image-sarcasm No: 3\n",
      "    multi-sarcasm text-sarcasm not-sarcasm Yes: 1\n",
      "    multi-sarcasm not-sarcasm not-sarcasm No: 16\n",
      "    not-sarcasm image-sarcasm multi-sarcasm Yes: 2\n",
      "    multi-sarcasm multi-sarcasm not-sarcasm Yes: 4\n",
      "    multi-sarcasm not-sarcasm multi-sarcasm Yes: 14\n",
      "    image-sarcasm image-sarcasm image-sarcasm Yes: 1\n",
      "    not-sarcasm not-sarcasm multi-sarcasm No: 2\n",
      "    not-sarcasm image-sarcasm multi-sarcasm No: 1\n",
      "    multi-sarcasm not-sarcasm multi-sarcasm No: 2\n",
      "    multi-sarcasm image-sarcasm multi-sarcasm Yes: 1\n",
      "    multi-sarcasm image-sarcasm not-sarcasm Yes: 1\n",
      "    not-sarcasm multi-sarcasm not-sarcasm Yes: 6\n",
      "    image-sarcasm multi-sarcasm multi-sarcasm Yes: 1\n",
      "    image-sarcasm image-sarcasm image-sarcasm No: 1\n",
      "    not-sarcasm multi-sarcasm image-sarcasm Yes: 1\n",
      "    multi-sarcasm multi-sarcasm image-sarcasm Yes: 1\n",
      "\n",
      "text-sarcasm\n",
      "    not-sarcasm not-sarcasm not-sarcasm No: 11\n",
      "    not-sarcasm multi-sarcasm multi-sarcasm Yes: 2\n",
      "    multi-sarcasm multi-sarcasm multi-sarcasm Yes: 2\n",
      "    not-sarcasm multi-sarcasm not-sarcasm No: 2\n",
      "    multi-sarcasm not-sarcasm not-sarcasm Yes: 1\n",
      "    multi-sarcasm not-sarcasm multi-sarcasm Yes: 1\n",
      "\n",
      "image-sarcasm\n",
      "    not-sarcasm not-sarcasm not-sarcasm Yes: 5\n",
      "    multi-sarcasm multi-sarcasm multi-sarcasm Yes: 22\n",
      "    not-sarcasm not-sarcasm not-sarcasm No: 5\n",
      "    not-sarcasm image-sarcasm image-sarcasm No: 1\n",
      "    multi-sarcasm not-sarcasm multi-sarcasm Yes: 1\n",
      "    multi-sarcasm image-sarcasm image-sarcasm Yes: 1\n",
      "    multi-sarcasm multi-sarcasm multi-sarcasm No: 2\n",
      "    image-sarcasm image-sarcasm image-sarcasm Yes: 4\n",
      "    multi-sarcasm multi-sarcasm not-sarcasm Yes: 2\n",
      "    not-sarcasm multi-sarcasm multi-sarcasm Yes: 2\n",
      "    not-sarcasm image-sarcasm image-sarcasm Yes: 4\n",
      "    multi-sarcasm not-sarcasm not-sarcasm Yes: 1\n",
      "    multi-sarcasm image-sarcasm multi-sarcasm Yes: 1\n",
      "    multi-sarcasm not-sarcasm not-sarcasm No: 2\n",
      "    not-sarcasm multi-sarcasm not-sarcasm No: 1\n",
      "\n"
     ]
    }
   ],
   "source": [
    "# print dict in pretty format \n",
    "\n",
    "def print_dict(d):\n",
    "    for k, v in d.items():\n",
    "        print(k)\n",
    "        for k2, v2 in v.items():\n",
    "            print(f\"    {k2}: {v2}\")\n",
    "        print()\n",
    "        \n",
    "print_dict(pair_count_2(df[\"label\"],df[\"best_result\"],df[\"best_result_2\"],df[\"best_result_3\"], df[\"yes_no\"]))"
   ]
  },
  {
   "cell_type": "code",
   "execution_count": 9,
   "metadata": {},
   "outputs": [
    {
     "data": {
      "text/plain": [
       "[('multi-sarcasm /multi-sarcasm /Yes /Yes', 377),\n",
       " ('not-sarcasm /not-sarcasm /No /No', 598),\n",
       " ('multi-sarcasm /multi-sarcasm /No /Yes', 19),\n",
       " ('multi-sarcasm /not-sarcasm /No /No', 75),\n",
       " ('text-sarcasm /not-sarcasm /No /No', 13),\n",
       " ('image-sarcasm /not-sarcasm /Yes /Yes', 9),\n",
       " ('image-sarcasm /multi-sarcasm /Yes /Yes', 27),\n",
       " ('multi-sarcasm /not-sarcasm /Yes /Yes', 61),\n",
       " ('not-sarcasm /multi-sarcasm /Yes /Yes', 183),\n",
       " ('multi-sarcasm /multi-sarcasm /No /No', 10),\n",
       " ('not-sarcasm /not-sarcasm /Yes /Yes', 50),\n",
       " ('multi-sarcasm /not-sarcasm /No /Yes', 30),\n",
       " ('not-sarcasm /multi-sarcasm /No /No', 26),\n",
       " ('not-sarcasm /multi-sarcasm /Yes /No', 14),\n",
       " ('not-sarcasm /multi-sarcasm /No /Yes', 20),\n",
       " ('image-sarcasm /not-sarcasm /No /No', 6),\n",
       " ('not-sarcasm /not-sarcasm /No /Yes', 34),\n",
       " ('not-sarcasm /not-sarcasm /Yes /No', 19),\n",
       " ('text-sarcasm /not-sarcasm /No /Yes', 1),\n",
       " ('multi-sarcasm /not-sarcasm /Yes /No', 10),\n",
       " ('multi-sarcasm /multi-sarcasm /Yes /No', 15),\n",
       " ('image-sarcasm /not-sarcasm /No /Yes', 2),\n",
       " ('image-sarcasm /multi-sarcasm /No /No', 2),\n",
       " ('image-sarcasm /image-sarcasm /Yes /Yes', 4),\n",
       " ('image-sarcasm /not-sarcasm /Yes /No', 1),\n",
       " ('text-sarcasm /multi-sarcasm /Yes /Yes', 4),\n",
       " ('image-sarcasm /multi-sarcasm /Yes /No', 2),\n",
       " ('multi-sarcasm /image-sarcasm /Yes /Yes', 2),\n",
       " ('not-sarcasm /image-sarcasm /Yes /Yes', 2),\n",
       " ('not-sarcasm /image-sarcasm /Yes /No', 1),\n",
       " ('text-sarcasm /not-sarcasm /Yes /Yes', 1),\n",
       " ('image-sarcasm /multi-sarcasm /No /Yes', 1)]"
      ]
     },
     "execution_count": 9,
     "metadata": {},
     "output_type": "execute_result"
    }
   ],
   "source": [
    "[(i,len(v)) for (i,v) in pair_count(df[\"label\"],df[\"best_result\"],df[\"yes_no_2\"], df[\"yes_no\"]).items()]"
   ]
  },
  {
   "cell_type": "code",
   "execution_count": 10,
   "metadata": {},
   "outputs": [
    {
     "data": {
      "text/plain": [
       "Counter({'not-sarcasm': 910, 'multi-sarcasm': 700, 'image-sarcasm': 9})"
      ]
     },
     "execution_count": 10,
     "metadata": {},
     "output_type": "execute_result"
    }
   ],
   "source": [
    "Counter(df[\"best_result\"])"
   ]
  },
  {
   "cell_type": "code",
   "execution_count": 11,
   "metadata": {},
   "outputs": [],
   "source": [
    "def old_transform_submit(best_result, yes_no):\n",
    "    transformed_labels = []\n",
    "    for i in range(len(best_result)):\n",
    "        transformed_labels.append(best_result[i])\n",
    "        if best_result[i] == \"multi-sarcasm\" and yes_no[i] == \"No\":\n",
    "            transformed_labels[i] = \"not-sarcasm\"\n",
    "        elif best_result[i] == \"not-sarcasm\" and yes_no[i] == \"Yes\":\n",
    "            transformed_labels[i] = \"multi-sarcasm\"\n",
    "    return transformed_labels"
   ]
  },
  {
   "cell_type": "code",
   "execution_count": 12,
   "metadata": {},
   "outputs": [],
   "source": [
    "def transform_submit(best_result, best_result_2, yes_no):\n",
    "    transformed_labels = []\n",
    "    for i in range(len(best_result)):\n",
    "        transformed_labels.append(best_result[i])\n",
    "        if best_result[i] == \"not-sarcasm\" and best_result_2[i] == \"not-sarcasm\" and yes_no[i] == \"Yes\":\n",
    "            transformed_labels[i] = \"multi-sarcasm\"\n",
    "        elif best_result[i] == \"not-sarcasm\" and best_result_2[i] == \"multi-sarcasm\" and yes_no[i] == \"Yes\":\n",
    "            transformed_labels[i] = \"multi-sarcasm\"\n",
    "        elif best_result[i] == \"multi-sarcasm\" and best_result_2[i] == \"multi-sarcasm\" and yes_no[i] == \"No\":\n",
    "            transformed_labels[i] = \"not-sarcasm\"\n",
    "        elif best_result[i] == \"not-sarcasm\" and best_result_2[i] == \"image-sarcasm\" and yes_no[i] == \"Yes\":\n",
    "            transformed_labels[i] = \"image-sarcasm\"\n",
    "        elif best_result[i] == \"multi-sarcasm\" and best_result_2[i] == \"image-sarcasm\" and yes_no[i] == \"Yes\":\n",
    "            transformed_labels[i] = \"image-sarcasm\"\n",
    "    return transformed_labels"
   ]
  },
  {
   "cell_type": "code",
   "execution_count": 13,
   "metadata": {},
   "outputs": [],
   "source": [
    "def transform_submit_2(best_result, best_result_2, best_result_3, yes_no):\n",
    "    transformed_labels = []\n",
    "    for i in range(len(best_result)):\n",
    "        label1 = best_result[i]\n",
    "        label2 = best_result_2[i]\n",
    "        label3 = best_result_3[i]\n",
    "        yes_no_label = yes_no[i]\n",
    "\n",
    "        # Initialize the transformed label with the first result as default\n",
    "        transformed_label = label1\n",
    "\n",
    "        # Conditions for 'multi-sarcasm'\n",
    "        if (\n",
    "            # not-sarcasm not-sarcasm multi-sarcasm No: 6\n",
    "            (label1 == 'not-sarcasm' and label2 == 'not-sarcasm' and label3 == 'multi-sarcasm' and yes_no_label == 'No') or\n",
    "            # not-sarcasm multi-sarcasm not-sarcasm Yes: 18\n",
    "            (label1 == 'not-sarcasm' and label2 == 'multi-sarcasm' and label3 == 'not-sarcasm' and yes_no_label == 'Yes') or\n",
    "            # not-sarcasm image-sarcasm multi-sarcasm Yes: 2\n",
    "            (label1 == 'not-sarcasm' and label2 == 'image-sarcasm' and label3 == 'multi-sarcasm' and yes_no_label == 'Yes') or\n",
    "            # not-sarcasm not-sarcasm image-sarcasm Yes: 2\n",
    "            (label1 == 'not-sarcasm' and label2 == 'not-sarcasm' and label3 == 'image-sarcasm' and yes_no_label == 'Yes') or\n",
    "            # not-sarcasm not-sarcasm multi-sarcasm Yes: 3\n",
    "            (label1 == 'not-sarcasm' and label2 == 'not-sarcasm' and label3 == 'multi-sarcasm' and yes_no_label == 'Yes') \n",
    "        ):\n",
    "            transformed_label = 'multi-sarcasm'\n",
    "\n",
    "        # Conditions for 'not-sarcasm'\n",
    "        elif (\n",
    "            # multi-sarcasm multi-sarcasm multi-sarcasm No: 19\n",
    "            (label1 == 'multi-sarcasm' and label2 == 'multi-sarcasm' and label3 == 'multi-sarcasm' and yes_no_label == 'No') or\n",
    "            # multi-sarcasm not-sarcasm not-sarcasm No: 17\n",
    "            (label1 == 'multi-sarcasm' and label2 == 'not-sarcasm' and label3 == 'not-sarcasm' and yes_no_label == 'No') or\n",
    "            # image-sarcasm multi-sarcasm multi-sarcasm Yes: 2\n",
    "            (label1 == 'image-sarcasm' and label2 == 'multi-sarcasm' and label3 == 'multi-sarcasm' and yes_no_label == 'Yes')\n",
    "        ):\n",
    "            transformed_label = 'not-sarcasm'\n",
    "\n",
    "        # Conditions for 'image-sarcasm'\n",
    "        elif (\n",
    "            # image-sarcasm image-sarcasm image-sarcasm Yes: 6\n",
    "            (label1 == 'image-sarcasm' and label2 == 'image-sarcasm' and label3 == 'image-sarcasm' and yes_no_label == 'Yes') or\n",
    "            # not-sarcasm image-sarcasm image-sarcasm Yes: 2\n",
    "            (label1 == 'not-sarcasm' and label2 == 'image-sarcasm' and label3 == 'image-sarcasm' and yes_no_label == 'Yes')\n",
    "        ):\n",
    "            transformed_label = 'image-sarcasm'\n",
    "\n",
    "        # Append the transformed label\n",
    "        transformed_labels.append(transformed_label)\n",
    "\n",
    "    return transformed_labels\n"
   ]
  },
  {
   "cell_type": "code",
   "execution_count": 14,
   "metadata": {},
   "outputs": [],
   "source": [
    "from sklearn.metrics import f1_score"
   ]
  },
  {
   "cell_type": "code",
   "execution_count": 15,
   "metadata": {},
   "outputs": [
    {
     "name": "stdout",
     "output_type": "stream",
     "text": [
      "0.4181540236550133\n",
      "0.39247712190526995\n",
      "0.41185401882049344\n",
      "0.38253904886744117\n"
     ]
    }
   ],
   "source": [
    "# print(f1_score(df[\"label\"], transform_submit(df[\"best_result\"], df[\"best_result_2\"], df[\"best_result_3\"],df[\"yes_no\"]), average='macro'))\n",
    "print(f1_score(df[\"label\"], transform_submit_2(df[\"best_result\"], df[\"best_result_2\"],df[\"best_result_3\"],df[\"yes_no\"]), average='macro'))\n",
    "print(f1_score(df[\"label\"], old_transform_submit(df[\"best_result\"], df[\"yes_no\"]), average='macro'))\n",
    "print(f1_score(df[\"label\"], transform_submit(df[\"best_result\"],df[\"best_result_2\"], df[\"yes_no\"]), average='macro'))\n",
    "print(f1_score(df[\"label\"], df[\"best_result\"], average='macro'))"
   ]
  },
  {
   "cell_type": "code",
   "execution_count": 16,
   "metadata": {},
   "outputs": [
    {
     "data": {
      "text/plain": [
       "('result_test_val/train_vintern_v6_1_epoch4.json',\n",
       " 'result_test_val/train_vintern_v1_epoch5.json',\n",
       " 'result_ova/Vintern_train_yes_no_ova_v1_epoch2.json')"
      ]
     },
     "execution_count": 16,
     "metadata": {},
     "output_type": "execute_result"
    }
   ],
   "source": [
    "best_result_file , best_result_2_file, yes_no_file"
   ]
  }
 ],
 "metadata": {
  "kernelspec": {
   "display_name": "base",
   "language": "python",
   "name": "python3"
  },
  "language_info": {
   "codemirror_mode": {
    "name": "ipython",
    "version": 3
   },
   "file_extension": ".py",
   "mimetype": "text/x-python",
   "name": "python",
   "nbconvert_exporter": "python",
   "pygments_lexer": "ipython3",
   "version": "3.11.9"
  }
 },
 "nbformat": 4,
 "nbformat_minor": 2
}
