{
 "cells": [
  {
   "cell_type": "code",
   "execution_count": 1,
   "metadata": {},
   "outputs": [
    {
     "name": "stdout",
     "output_type": "stream",
     "text": [
      "D:\\uitds\n"
     ]
    }
   ],
   "source": [
    "%cd D:/uitds"
   ]
  },
  {
   "cell_type": "code",
   "execution_count": 2,
   "metadata": {},
   "outputs": [],
   "source": [
    "from collections import Counter\n",
    "import json\n",
    "from sklearn.metrics import f1_score"
   ]
  },
  {
   "cell_type": "code",
   "execution_count": 3,
   "metadata": {},
   "outputs": [],
   "source": [
    "LOGNAME = 'merge_approach/log_merge_and_submit.txt'\n",
    "def printlog(logname, log):\n",
    "    with open(logname, 'a') as f:\n",
    "        f.write(log + '\\n')\n",
    "# printlog(LOGNAME, 'start')"
   ]
  },
  {
   "cell_type": "code",
   "execution_count": 4,
   "metadata": {},
   "outputs": [],
   "source": [
    "name_best1 = \"v5_epoch7\"\n",
    "name_not = \"v1_epoch2\"\n",
    "name_best2 = \"v1_epoch5\"\n",
    "name_best3 = \"v1_1_epoch7\"\n",
    "\n",
    "yes_no_file = f\"result_ova/Vintern_train_yes_no_ova_{name_not}.json\"\n",
    "best_result_file = f\"result_test_val/train_vintern_{name_best1}.json\"\n",
    "best_result_2_file = f\"result_test_val/train_vintern_{name_best2}.json\"\n",
    "best_result_3_file = f\"result_test_val/train_vintern_{name_best3}.json\""
   ]
  },
  {
   "cell_type": "code",
   "execution_count": 5,
   "metadata": {},
   "outputs": [],
   "source": [
    "import json\n",
    "with open(yes_no_file, 'r') as f:\n",
    "    yes_no = json.load(f)"
   ]
  },
  {
   "cell_type": "code",
   "execution_count": 6,
   "metadata": {},
   "outputs": [
    {
     "data": {
      "text/plain": [
       "Counter({'Yes': 827, 'No': 792})"
      ]
     },
     "execution_count": 6,
     "metadata": {},
     "output_type": "execute_result"
    }
   ],
   "source": [
    "from collections import Counter\n",
    "Counter(yes_no[\"results\"].values())"
   ]
  },
  {
   "cell_type": "code",
   "execution_count": 7,
   "metadata": {},
   "outputs": [],
   "source": [
    "printlog(LOGNAME,f\"best_{name_best1}_best2_{name_best2}_not_{name_not}\")"
   ]
  },
  {
   "cell_type": "code",
   "execution_count": 8,
   "metadata": {},
   "outputs": [],
   "source": [
    "printlog(LOGNAME,f\"best_{name_best1}_best2_{name_best2}_best3_{name_best3}_not_{name_not}_v2\")"
   ]
  },
  {
   "cell_type": "code",
   "execution_count": 9,
   "metadata": {},
   "outputs": [],
   "source": [
    "with open(best_result_file) as best_result, open(yes_no_file) as yes_no, open(best_result_2_file) as best_result_2, open(best_result_3_file) as best_result_3:\n",
    "    yes_no = json.load(yes_no)\n",
    "    best_result = json.load(best_result)\n",
    "    best_result_2 = json.load(best_result_2)\n",
    "    best_result_3 = json.load(best_result_3)"
   ]
  },
  {
   "cell_type": "code",
   "execution_count": 10,
   "metadata": {},
   "outputs": [],
   "source": [
    "# read txt file: data\\train_val_group_split.txt\n",
    "TXT_PATH = \"data/train_val_group_split.txt\"\n",
    "JSON_PATH = \"data/json/vimmsd-train.json\"\n",
    "\n",
    "def read_train_test_file(name_file):\n",
    "    with open(name_file, 'r') as f:\n",
    "        lines = f.readlines()\n",
    "        num_train, num_val = int(lines[0].split()[0]), int(lines[0].split()[1])\n",
    "        train_idx = list(map(int, lines[1].split()))\n",
    "        val_idx = list(map(int, lines[2].split()))\n",
    "    return num_train, num_val, train_idx, val_idx\n",
    "\n",
    "num_train, num_val, train_idx, val_idx = read_train_test_file(TXT_PATH)\n",
    "\n",
    "json_file = open(JSON_PATH, 'r')\n",
    "json_data = json.load(json_file)\n",
    "labels = [json_data[str(i)][\"label\"] for i in val_idx]\n"
   ]
  },
  {
   "cell_type": "code",
   "execution_count": 11,
   "metadata": {},
   "outputs": [],
   "source": [
    "import pandas as pd\n",
    "\n",
    "df = pd.DataFrame(\n",
    "    {'yes_no':yes_no[\"results\"].values(), \n",
    "     'best_result': best_result[\"results\"].values(), \n",
    "     'best_result_2': best_result_2[\"results\"].values(),\n",
    "     'best_result_3': best_result_3[\"results\"].values(),\n",
    "    'label': labels}\n",
    ")"
   ]
  },
  {
   "cell_type": "code",
   "execution_count": 12,
   "metadata": {},
   "outputs": [],
   "source": [
    "def old_transform_submit(best_result, yes_no):\n",
    "    transformed_labels = []\n",
    "    for i in range(len(best_result)):\n",
    "        transformed_labels.append(best_result[i])\n",
    "        if best_result[i] == \"multi-sarcasm\" and yes_no[i] == \"No\":\n",
    "            transformed_labels[i] = \"not-sarcasm\"\n",
    "        elif best_result[i] == \"not-sarcasm\" and yes_no[i] == \"Yes\":\n",
    "            transformed_labels[i] = \"multi-sarcasm\"\n",
    "    return transformed_labels"
   ]
  },
  {
   "cell_type": "code",
   "execution_count": 13,
   "metadata": {},
   "outputs": [],
   "source": [
    "def transform_submit(best_result, best_result_2, yes_no):\n",
    "    transformed_labels = []\n",
    "    for i in range(len(best_result)):\n",
    "        transformed_labels.append(best_result[i])\n",
    "        if best_result[i] == \"not-sarcasm\" and best_result_2[i] == \"not-sarcasm\" and yes_no[i] == \"Yes\":\n",
    "            transformed_labels[i] = \"multi-sarcasm\"\n",
    "        elif best_result[i] == \"not-sarcasm\" and best_result_2[i] == \"multi-sarcasm\" and yes_no[i] == \"Yes\":\n",
    "            transformed_labels[i] = \"multi-sarcasm\"\n",
    "        elif best_result[i] == \"multi-sarcasm\" and best_result_2[i] == \"multi-sarcasm\" and yes_no[i] == \"No\":\n",
    "            transformed_labels[i] = \"not-sarcasm\"\n",
    "        elif best_result[i] == \"not-sarcasm\" and best_result_2[i] == \"image-sarcasm\" and yes_no[i] == \"Yes\":\n",
    "            transformed_labels[i] = \"image-sarcasm\"\n",
    "        elif best_result[i] == \"multi-sarcasm\" and best_result_2[i] == \"image-sarcasm\" and yes_no[i] == \"Yes\":\n",
    "            transformed_labels[i] = \"image-sarcasm\"\n",
    "    return transformed_labels"
   ]
  },
  {
   "cell_type": "code",
   "execution_count": 14,
   "metadata": {},
   "outputs": [],
   "source": [
    "def transform_submit_2(best_result, best_result_2, best_result_3, yes_no):\n",
    "    transformed_labels = []\n",
    "    for i in range(len(best_result)):\n",
    "        label1 = best_result[i]\n",
    "        label2 = best_result_2[i]\n",
    "        label3 = best_result_3[i]\n",
    "        yes_no_label = yes_no[i]\n",
    "\n",
    "        # Initialize the transformed label with the first result as default\n",
    "        transformed_label = label1\n",
    "\n",
    "        # Conditions for 'multi-sarcasm'\n",
    "        if (\n",
    "            # not-sarcasm not-sarcasm multi-sarcasm No: 6\n",
    "            (label1 == 'not-sarcasm' and label2 == 'not-sarcasm' and label3 == 'multi-sarcasm' and yes_no_label == 'No') or\n",
    "            # not-sarcasm multi-sarcasm not-sarcasm Yes: 18\n",
    "            (label1 == 'not-sarcasm' and label2 == 'multi-sarcasm' and label3 == 'not-sarcasm' and yes_no_label == 'Yes') or\n",
    "            # not-sarcasm image-sarcasm multi-sarcasm Yes: 2\n",
    "            (label1 == 'not-sarcasm' and label2 == 'image-sarcasm' and label3 == 'multi-sarcasm' and yes_no_label == 'Yes') or\n",
    "            # not-sarcasm not-sarcasm image-sarcasm Yes: 2\n",
    "            (label1 == 'not-sarcasm' and label2 == 'not-sarcasm' and label3 == 'image-sarcasm' and yes_no_label == 'Yes') or\n",
    "            # not-sarcasm not-sarcasm multi-sarcasm Yes: 3\n",
    "            (label1 == 'not-sarcasm' and label2 == 'not-sarcasm' and label3 == 'multi-sarcasm' and yes_no_label == 'Yes') \n",
    "        ):\n",
    "            transformed_label = 'multi-sarcasm'\n",
    "\n",
    "        # Conditions for 'not-sarcasm'\n",
    "        elif (\n",
    "            # multi-sarcasm multi-sarcasm multi-sarcasm No: 19\n",
    "            (label1 == 'multi-sarcasm' and label2 == 'multi-sarcasm' and label3 == 'multi-sarcasm' and yes_no_label == 'No') or\n",
    "            # multi-sarcasm not-sarcasm not-sarcasm No: 17\n",
    "            (label1 == 'multi-sarcasm' and label2 == 'not-sarcasm' and label3 == 'not-sarcasm' and yes_no_label == 'No') or\n",
    "            # image-sarcasm multi-sarcasm multi-sarcasm Yes: 2\n",
    "            (label1 == 'image-sarcasm' and label2 == 'multi-sarcasm' and label3 == 'multi-sarcasm' and yes_no_label == 'Yes')\n",
    "        ):\n",
    "            transformed_label = 'not-sarcasm'\n",
    "\n",
    "        # Conditions for 'image-sarcasm'\n",
    "        elif (\n",
    "            # image-sarcasm image-sarcasm image-sarcasm Yes: 6\n",
    "            (label1 == 'image-sarcasm' and label2 == 'image-sarcasm' and label3 == 'image-sarcasm' and yes_no_label == 'Yes') or\n",
    "            # not-sarcasm image-sarcasm image-sarcasm Yes: 2\n",
    "            (label1 == 'not-sarcasm' and label2 == 'image-sarcasm' and label3 == 'image-sarcasm' and yes_no_label == 'Yes')\n",
    "        ):\n",
    "            transformed_label = 'image-sarcasm'\n",
    "\n",
    "        # Append the transformed label\n",
    "        transformed_labels.append(transformed_label)\n",
    "\n",
    "    return transformed_labels\n"
   ]
  },
  {
   "cell_type": "code",
   "execution_count": 15,
   "metadata": {},
   "outputs": [],
   "source": [
    "printlog(LOGNAME,\"train\")\n",
    "printlog(LOGNAME, f'f1: transform {f1_score(df[\"label\"], transform_submit(df[\"best_result\"], df[\"best_result_2\"],df[\"yes_no\"]), average=\"macro\")}')\n",
    "printlog(LOGNAME, f'f1: transform 2 {f1_score(df[\"label\"], transform_submit_2(df[\"best_result\"], df[\"best_result_2\"], df[\"best_result_3\"],df[\"yes_no\"]), average=\"macro\")}')\n",
    "printlog(LOGNAME, f'f1: old transform {f1_score(df[\"label\"], old_transform_submit(df[\"best_result\"], df[\"yes_no\"]), average=\"macro\")}')\n",
    "printlog(LOGNAME, f'f1: best1 {f1_score(df[\"label\"], df[\"best_result\"], average=\"macro\")}')"
   ]
  },
  {
   "cell_type": "code",
   "execution_count": 16,
   "metadata": {},
   "outputs": [],
   "source": [
    "printlog(LOGNAME, f'transform {Counter(transform_submit(df[\"best_result\"], df[\"best_result_2\"],df[\"yes_no\"]))}')\n",
    "printlog(LOGNAME, f'transform 2 {Counter(transform_submit_2(df[\"best_result\"], df[\"best_result_2\"], df[\"best_result_3\"],df[\"yes_no\"]))}')\n",
    "printlog(LOGNAME, f'old transform {Counter(old_transform_submit(df[\"best_result\"], df[\"yes_no\"]))}')\n",
    "printlog(LOGNAME, f'best1 {Counter(df[\"best_result\"])}')"
   ]
  },
  {
   "cell_type": "code",
   "execution_count": 17,
   "metadata": {},
   "outputs": [],
   "source": [
    "results = {}\n",
    "results[\"results\"] = {}\n",
    "results[\"phase\"] = \"dev\"\n",
    "merge_val = old_transform_submit(df[\"best_result\"], df[\"yes_no\"])\n",
    "for i in range(len(merge_val)):\n",
    "    results[\"results\"][str(i)] = merge_val[i]\n",
    "with open(f\"merge_val/best_not/val_best_{name_best1}_not_{name_not}_results.json\", \"w\") as out:\n",
    "    json.dump(results, out)"
   ]
  },
  {
   "cell_type": "code",
   "execution_count": 18,
   "metadata": {},
   "outputs": [],
   "source": [
    "results = {}\n",
    "results[\"results\"] = {}\n",
    "results[\"phase\"] = \"dev\"\n",
    "merge_val = transform_submit(df[\"best_result\"], df[\"best_result_2\"],df[\"yes_no\"])\n",
    "for i in range(len(merge_val)):\n",
    "    results[\"results\"][str(i)] = merge_val[i]\n",
    "with open(f\"merge_val/best1_best2_not/val_best_{name_best1}_best2_{name_best2}_not_{name_not}_results.json\", \"w\") as out:\n",
    "    json.dump(results, out)"
   ]
  },
  {
   "cell_type": "code",
   "execution_count": 19,
   "metadata": {},
   "outputs": [],
   "source": [
    "results = {}\n",
    "results[\"results\"] = {}\n",
    "results[\"phase\"] = \"dev\"\n",
    "merge_val = transform_submit_2(df[\"best_result\"], df[\"best_result_2\"],df[\"best_result_3\"], df[\"yes_no\"])\n",
    "for i in range(len(merge_val)):\n",
    "    results[\"results\"][str(i)] = merge_val[i]\n",
    "with open(f\"merge_val/best1_best2_best3_not_v2/val_best_{name_best1}_best2_{name_best2}_best3_{name_best3}_not_{name_not}_v2_results.json\", \"w\") as out:\n",
    "    json.dump(results, out)"
   ]
  },
  {
   "cell_type": "code",
   "execution_count": 20,
   "metadata": {},
   "outputs": [],
   "source": [
    "yes_no_file = f\"result_ova/Vintern_test_yes_no_ova_{name_not}.json\"\n",
    "best_result_file = f\"result_test_val/test_vintern_{name_best1}.json\"\n",
    "best_result_2_file = f\"result_test_val/test_vintern_{name_best2}.json\"\n",
    "best_result_3_file = f\"result_test_val/test_vintern_{name_best3}.json\""
   ]
  },
  {
   "cell_type": "code",
   "execution_count": 21,
   "metadata": {},
   "outputs": [],
   "source": [
    "with open(best_result_file) as best_result, open(yes_no_file) as yes_no, open(best_result_2_file) as best_result_2, open(best_result_3_file) as best_result_3:\n",
    "    yes_no = json.load(yes_no)\n",
    "    best_result = json.load(best_result)\n",
    "    best_result_2 = json.load(best_result_2)\n",
    "    best_result_3 = json.load(best_result_3)"
   ]
  },
  {
   "cell_type": "code",
   "execution_count": 22,
   "metadata": {},
   "outputs": [],
   "source": [
    "df = pd.DataFrame({'yes_no':yes_no[\"results\"].values(), 'best_result': best_result[\"results\"].values(),'best_result_2': best_result_2[\"results\"].values(), 'best_result_3': best_result_3[\"results\"].values()})"
   ]
  },
  {
   "cell_type": "code",
   "execution_count": 23,
   "metadata": {},
   "outputs": [],
   "source": [
    "printlog(LOGNAME,\"test\")\n",
    "printlog(LOGNAME, f'transform {Counter(transform_submit(df[\"best_result\"], df[\"best_result_2\"],df[\"yes_no\"]))}')\n",
    "printlog(LOGNAME, f'transform 2 {Counter(transform_submit_2(df[\"best_result\"], df[\"best_result_2\"], df[\"best_result_3\"],df[\"yes_no\"]))}')\n",
    "printlog(LOGNAME, f'old transform {Counter(old_transform_submit(df[\"best_result\"], df[\"yes_no\"]))}')\n",
    "printlog(LOGNAME, f'best1 {Counter(df[\"best_result\"])}')"
   ]
  },
  {
   "cell_type": "code",
   "execution_count": 24,
   "metadata": {},
   "outputs": [],
   "source": [
    "printlog(LOGNAME, \"\\n\")"
   ]
  },
  {
   "cell_type": "code",
   "execution_count": 25,
   "metadata": {},
   "outputs": [],
   "source": [
    "results = {}\n",
    "results[\"results\"] = {}\n",
    "results[\"phase\"] = \"dev\"\n",
    "merge_val = transform_submit(df[\"best_result\"], df[\"best_result_2\"],df[\"yes_no\"])\n",
    "for i in range(len(merge_val)):\n",
    "    results[\"results\"][str(i)] = merge_val[i]"
   ]
  },
  {
   "cell_type": "code",
   "execution_count": 26,
   "metadata": {},
   "outputs": [],
   "source": [
    "with open(f\"merge_test/best_{name_best1}_best2_{name_best2}_not_{name_not}_results.json\", \"w\") as out:\n",
    "    json.dump(results, out)"
   ]
  },
  {
   "cell_type": "code",
   "execution_count": 27,
   "metadata": {},
   "outputs": [],
   "source": [
    "import os\n",
    "import shutil\n",
    "import zipfile\n",
    "def create_dir(dir_name):\n",
    "    try:\n",
    "        os.mkdir(dir_name)\n",
    "    except FileExistsError:\n",
    "        print(\"DIRECTORY ALREADY EXISTS!!!\")\n",
    "    except Exception as e:\n",
    "        print(e)\n",
    "    else:\n",
    "        print(\"Directory created successfully\")"
   ]
  },
  {
   "cell_type": "code",
   "execution_count": 28,
   "metadata": {},
   "outputs": [],
   "source": [
    "def copy_rename_zip(name, new_file_name, new_file_ext):\n",
    "    file_name = f\"merge_test/{name}_results.json\"\n",
    "    dir_name = f\"submissions/{name}\"\n",
    "    create_dir(dir_name)\n",
    "\n",
    "    new_file_path = os.path.join(dir_name, new_file_name)\n",
    "    full_file_path = new_file_path + new_file_ext\n",
    "    \n",
    "    try:\n",
    "        shutil.copy(file_name, full_file_path)\n",
    "    except FileNotFoundError:\n",
    "        print(\"FILE NOT FOUND!!!\")\n",
    "        os.rmdir(dir_name)\n",
    "        return\n",
    "        \n",
    "    with zipfile.ZipFile(new_file_path + '.zip', 'w') as myzip:\n",
    "        myzip.write(full_file_path, arcname=new_file_name + new_file_ext)\n",
    "    return"
   ]
  },
  {
   "cell_type": "code",
   "execution_count": 29,
   "metadata": {},
   "outputs": [
    {
     "name": "stdout",
     "output_type": "stream",
     "text": [
      "DIRECTORY ALREADY EXISTS!!!\n"
     ]
    }
   ],
   "source": [
    "copy_rename_zip(f\"best_{name_best1}_best2_{name_best2}_not_{name_not}\", \"results\", \".json\")"
   ]
  },
  {
   "cell_type": "code",
   "execution_count": 30,
   "metadata": {},
   "outputs": [
    {
     "data": {
      "text/plain": [
       "'best_v5_epoch7_best2_v1_epoch5_not_v1_epoch2'"
      ]
     },
     "execution_count": 30,
     "metadata": {},
     "output_type": "execute_result"
    }
   ],
   "source": [
    "f\"best_{name_best1}_best2_{name_best2}_not_{name_not}\""
   ]
  },
  {
   "cell_type": "code",
   "execution_count": 31,
   "metadata": {},
   "outputs": [],
   "source": [
    "results = {}\n",
    "results[\"results\"] = {}\n",
    "results[\"phase\"] = \"dev\"\n",
    "merge_val = old_transform_submit(df[\"best_result\"], df[\"yes_no\"])\n",
    "for i in range(len(merge_val)):\n",
    "    results[\"results\"][str(i)] = merge_val[i]"
   ]
  },
  {
   "cell_type": "code",
   "execution_count": 32,
   "metadata": {},
   "outputs": [],
   "source": [
    "with open(f\"merge_test/best_{name_best1}_not_{name_not}_results.json\", \"w\") as out:\n",
    "    json.dump(results, out)"
   ]
  },
  {
   "cell_type": "code",
   "execution_count": 33,
   "metadata": {},
   "outputs": [
    {
     "name": "stdout",
     "output_type": "stream",
     "text": [
      "DIRECTORY ALREADY EXISTS!!!\n"
     ]
    }
   ],
   "source": [
    "copy_rename_zip(f\"best_{name_best1}_not_{name_not}\", \"results\", \".json\")"
   ]
  },
  {
   "cell_type": "code",
   "execution_count": 34,
   "metadata": {},
   "outputs": [],
   "source": [
    "results = {}\n",
    "results[\"results\"] = {}\n",
    "results[\"phase\"] = \"dev\"\n",
    "merge_val = transform_submit_2(df[\"best_result\"], df[\"best_result_2\"],df[\"best_result_3\"],df[\"yes_no\"])\n",
    "for i in range(len(merge_val)):\n",
    "    results[\"results\"][str(i)] = merge_val[i]"
   ]
  },
  {
   "cell_type": "code",
   "execution_count": 35,
   "metadata": {},
   "outputs": [],
   "source": [
    "with open(f\"merge_test/best_{name_best1}_best2_{name_best2}_best3_{name_best3}_not_{name_not}_v2_results.json\", \"w\") as out:\n",
    "    json.dump(results, out)"
   ]
  },
  {
   "cell_type": "code",
   "execution_count": 36,
   "metadata": {},
   "outputs": [
    {
     "data": {
      "text/plain": [
       "'best_v5_epoch7_best2_v1_epoch5_best3_v1_1_epoch7_not_v1_epoch2_v2'"
      ]
     },
     "execution_count": 36,
     "metadata": {},
     "output_type": "execute_result"
    }
   ],
   "source": [
    "f\"best_{name_best1}_best2_{name_best2}_best3_{name_best3}_not_{name_not}_v2\""
   ]
  },
  {
   "cell_type": "code",
   "execution_count": 37,
   "metadata": {},
   "outputs": [
    {
     "name": "stdout",
     "output_type": "stream",
     "text": [
      "DIRECTORY ALREADY EXISTS!!!\n"
     ]
    }
   ],
   "source": [
    "copy_rename_zip(f\"best_{name_best1}_best2_{name_best2}_best3_{name_best3}_not_{name_not}_v2\", \"results\", \".json\")"
   ]
  }
 ],
 "metadata": {
  "kernelspec": {
   "display_name": "base",
   "language": "python",
   "name": "python3"
  },
  "language_info": {
   "codemirror_mode": {
    "name": "ipython",
    "version": 3
   },
   "file_extension": ".py",
   "mimetype": "text/x-python",
   "name": "python",
   "nbconvert_exporter": "python",
   "pygments_lexer": "ipython3",
   "version": "3.11.9"
  }
 },
 "nbformat": 4,
 "nbformat_minor": 2
}
