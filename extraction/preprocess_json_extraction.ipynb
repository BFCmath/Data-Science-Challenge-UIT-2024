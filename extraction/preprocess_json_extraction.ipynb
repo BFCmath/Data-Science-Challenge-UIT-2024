{
 "cells": [
  {
   "cell_type": "code",
   "execution_count": null,
   "metadata": {},
   "outputs": [],
   "source": [
    "%cd D:/uitds"
   ]
  },
  {
   "cell_type": "code",
   "execution_count": null,
   "metadata": {},
   "outputs": [],
   "source": [
    "import json\n",
    "\n",
    "train_json = \"data/json/vimmsd-train.json\"\n",
    "\n",
    "with open(train_json) as f:\n",
    "    data = json.load(f)"
   ]
  },
  {
   "cell_type": "code",
   "execution_count": null,
   "metadata": {},
   "outputs": [],
   "source": [
    "emojies  = []\n",
    "\n",
    "for i in range(len(data)):\n",
    "    emojies.append(data[str(i)]['caption'])"
   ]
  },
  {
   "cell_type": "code",
   "execution_count": null,
   "metadata": {},
   "outputs": [],
   "source": [
    "import emoji\n",
    "\n",
    "def extract_emojis(text_list):\n",
    "    emoji_set = set()\n",
    "    \n",
    "    for text in text_list:\n",
    "        # Find all emojis in each text and add them to the set\n",
    "        for char in text:\n",
    "            if char in emoji.EMOJI_DATA:\n",
    "                emoji_set.add(char)\n",
    "    \n",
    "    return emoji_set\n",
    "\n",
    "set_emoji = extract_emojis(emojies)"
   ]
  },
  {
   "cell_type": "code",
   "execution_count": null,
   "metadata": {},
   "outputs": [],
   "source": [
    "print(*set_emoji)"
   ]
  },
  {
   "cell_type": "code",
   "execution_count": null,
   "metadata": {},
   "outputs": [],
   "source": [
    "train_json = \"data/json/vimmsd-public-test.json\"\n",
    "\n",
    "with open(train_json) as f:\n",
    "    data = json.load(f)"
   ]
  },
  {
   "cell_type": "code",
   "execution_count": null,
   "metadata": {},
   "outputs": [],
   "source": [
    "emojies  = []\n",
    "\n",
    "for i in range(len(data)):\n",
    "    emojies.append(data[str(i)]['caption'])"
   ]
  },
  {
   "cell_type": "code",
   "execution_count": null,
   "metadata": {},
   "outputs": [],
   "source": [
    "test_set_emoji = extract_emojis(emojies)"
   ]
  },
  {
   "cell_type": "code",
   "execution_count": null,
   "metadata": {},
   "outputs": [],
   "source": [
    "emoji_list = list(set_emoji.union(test_set_emoji))"
   ]
  },
  {
   "cell_type": "code",
   "execution_count": null,
   "metadata": {},
   "outputs": [],
   "source": [
    "import emoji\n",
    "from deep_translator import GoogleTranslator\n",
    "import time\n",
    "\n",
    "def extract_emojis_with_vietnamese_names(text_list):\n",
    "    translator = GoogleTranslator(source='en', target='vi')\n",
    "    emoji_dict = {}\n",
    "\n",
    "    for text in text_list:\n",
    "        for char in text:\n",
    "            if char in emoji.EMOJI_DATA and char not in emoji_dict:\n",
    "                # Get the English name of the emoji\n",
    "                english_name = emoji.demojize(char).replace(\":\", \"\").replace(\"_\", \" \").title()\n",
    "                \n",
    "                try:\n",
    "                    # Translate English name to Vietnamese\n",
    "                    vietnamese_name = translator.translate(english_name)\n",
    "                    time.sleep(0.5)  # To respect rate limits\n",
    "                    emoji_dict[char] = vietnamese_name\n",
    "                except Exception as e:\n",
    "                    print(f\"Translation error for '{english_name}': {str(e)}\")\n",
    "                    emoji_dict[char] = english_name  # Use English name as fallback\n",
    "\n",
    "    return emoji_dict\n",
    "\n",
    "\n",
    "unique_emojis_with_names = extract_emojis_with_vietnamese_names(emoji_list)\n",
    "print(unique_emojis_with_names)"
   ]
  },
  {
   "cell_type": "code",
   "execution_count": null,
   "metadata": {},
   "outputs": [],
   "source": [
    "unique_emojis_with_names"
   ]
  },
  {
   "cell_type": "code",
   "execution_count": null,
   "metadata": {},
   "outputs": [],
   "source": [
    "error = [\"Backhand Index Pointing Down\", \"Pensive Face\", \"Hamsa\", \"Play Button\", \"Cloud\", \"Lion\", \"Mango\", \"Rose\",\"Leopard\"]"
   ]
  },
  {
   "cell_type": "code",
   "execution_count": null,
   "metadata": {},
   "outputs": [],
   "source": [
    "error_unique_emojis_with_names = {k: v for k, v in unique_emojis_with_names.items() if v in error}"
   ]
  },
  {
   "cell_type": "code",
   "execution_count": null,
   "metadata": {},
   "outputs": [],
   "source": [
    "error_map_emoji = extract_emojis_with_vietnamese_names(error_unique_emojis_with_names.keys())"
   ]
  },
  {
   "cell_type": "code",
   "execution_count": null,
   "metadata": {},
   "outputs": [],
   "source": [
    "# replace the error in the unique_emojis_with_names\n",
    "\n",
    "for k, v in error_map_emoji.items():\n",
    "    unique_emojis_with_names[k] = v"
   ]
  },
  {
   "cell_type": "code",
   "execution_count": null,
   "metadata": {},
   "outputs": [],
   "source": [
    "unique_emojis_with_names"
   ]
  },
  {
   "cell_type": "code",
   "execution_count": null,
   "metadata": {},
   "outputs": [],
   "source": [
    "# save to json emoji_vietnamese.json\n",
    "\n",
    "with open(\"data/json/emoji_vietnamese.json\", \"w\") as f:\n",
    "    json.dump(unique_emojis_with_names, f, indent=4, ensure_ascii=False)"
   ]
  },
  {
   "cell_type": "code",
   "execution_count": null,
   "metadata": {},
   "outputs": [],
   "source": [
    "captions  = []\n",
    "labels = []\n",
    "images = []\n",
    "for i in range(len(data)):\n",
    "    captions.append(data[str(i)]['caption'])\n",
    "    labels.append(data[str(i)]['label'])\n",
    "    images.append(data[str(i)]['image'])"
   ]
  },
  {
   "cell_type": "code",
   "execution_count": null,
   "metadata": {},
   "outputs": [],
   "source": [
    "import re\n",
    "\n",
    "def find_words_with_dots(text):\n",
    "    # Regex pattern to match words with dots in the middle\n",
    "    pattern = r'\\b\\w+(?:\\.\\w+)+\\b'\n",
    "    matches = re.findall(pattern, text)\n",
    "    return matches\n",
    "\n",
    "# Example usage:\n",
    "text = 'Hôm nay tôi thấy một người muốn g.i.ế.t một c.hó.'\n",
    "# Output: ['g.i.ế.t', 'c.hó']\n",
    "\n",
    "for caption in captions:\n",
    "    finding = find_words_with_dots(caption)\n",
    "    if len(finding) > 0:\n",
    "        print(finding)"
   ]
  },
  {
   "cell_type": "code",
   "execution_count": null,
   "metadata": {},
   "outputs": [],
   "source": [
    "import re\n",
    "\n",
    "def remove_dots_from_words(text: str) -> str:\n",
    "    \"\"\"\n",
    "    Remove dots within words to reveal the original word.\n",
    "    For example, 'g.i.ế.t' becomes 'giết' and 'c.hó' becomes 'chó'.\n",
    "    Do not remove dots between numbers like '10.11.2005'.\n",
    "    \"\"\"\n",
    "    # Use regex to find dots between letters only\n",
    "    pattern = r'(?<=[^\\W\\d_])\\.(?=[^\\W\\d_])'\n",
    "    return re.sub(pattern, '', text, flags=re.UNICODE)\n",
    "\n",
    "# Example usage\n",
    "sample_text = \"Hôm nay tôi thấy một người muốn g.i.ế.t một c.hó. Sinh ngày 10.11.2005\"\n",
    "clean_text = remove_dots_from_words(sample_text)\n",
    "print(clean_text)\n"
   ]
  },
  {
   "cell_type": "code",
   "execution_count": null,
   "metadata": {},
   "outputs": [],
   "source": [
    "import re\n",
    "\n",
    "def remove_slashs_from_words(text: str) -> str:\n",
    "    \"\"\"\n",
    "    Remove dots within words to reveal the original word.\n",
    "    For example, 'g.i.ế.t' becomes 'giết' and 'c.hó' becomes 'chó'.\n",
    "    Do not remove dots between numbers like '10.11.2005'.\n",
    "    \"\"\"\n",
    "    # Use regex to find dots between letters only\n",
    "    pattern = r'(?<=[^\\W\\d_])\\/(?=[^\\W\\d_])'\n",
    "    return re.sub(pattern, '', text, flags=re.UNICODE)\n",
    "\n",
    "# Example usage\n",
    "sample_text = \"Hôm nay tôi thấy một người muốn g/i/ế/t một c/hó/ Sinh ngày 10/11/2005\"\n",
    "clean_text = remove_slashs_from_words(sample_text)\n",
    "print(clean_text)"
   ]
  },
  {
   "cell_type": "code",
   "execution_count": null,
   "metadata": {},
   "outputs": [],
   "source": [
    "import re\n",
    "\n",
    "def remove_commas_from_words(text: str) -> str:\n",
    "    \"\"\"\n",
    "    Remove dots within words to reveal the original word.\n",
    "    For example, 'g.i.ế.t' becomes 'giết' and 'c.hó' becomes 'chó'.\n",
    "    Do not remove dots between numbers like '10.11.2005'.\n",
    "    \"\"\"\n",
    "    # Use regex to find dots between letters only\n",
    "    pattern = r'(?<=[^\\W\\d_])\\,(?=[^\\W\\d_])'\n",
    "    return re.sub(pattern, '', text, flags=re.UNICODE)\n",
    "\n",
    "# Example usage\n",
    "sample_text = \"Hôm nay tôi thấy một người muốn g,i,ế,t một c,hó, Sinh ngày 10,11,2005\"\n",
    "clean_text = remove_commas_from_words(sample_text)\n",
    "print(clean_text)"
   ]
  },
  {
   "cell_type": "code",
   "execution_count": null,
   "metadata": {},
   "outputs": [],
   "source": [
    "import re\n",
    "\n",
    "def replace_emoticons_sad(text: str, replacement = \" <icon> mặt buồn </icon> \") -> str:\n",
    "    \"\"\"\n",
    "    Detects and replaces emoticons like :)), =)), :((, =(( with a custom replacement string.\n",
    "    Emoticons can have any number of closing or opening parentheses after : or =.\n",
    "    \n",
    "    Args:\n",
    "        text (str): The input text containing emoticons.\n",
    "        replacement (str): The string to replace the emoticons with.\n",
    "    \n",
    "    Returns:\n",
    "        str: The text with emoticons replaced by the replacement string.\n",
    "    \"\"\"\n",
    "    # Regex pattern to match emoticons like :)), =)), :((, =((, :)))) and =(((, etc.\n",
    "    pattern = r'(:|=)(\\(+)'\n",
    "\n",
    "    # Replace all matches with the replacement string\n",
    "    result = re.sub(pattern, replacement, text)\n",
    "    \n",
    "    return result\n",
    "def replace_emoticons_smile(text: str, replacement = \" <icon> mặt cười </icon> \") -> str:\n",
    "    \"\"\"\n",
    "    Detects and replaces emoticons like :)), =)), :((, =(( with a custom replacement string.\n",
    "    Emoticons can have any number of closing or opening parentheses after : or =.\n",
    "    \n",
    "    Args:\n",
    "        text (str): The input text containing emoticons.\n",
    "        replacement (str): The string to replace the emoticons with.\n",
    "    \n",
    "    Returns:\n",
    "        str: The text with emoticons replaced by the replacement string.\n",
    "    \"\"\"\n",
    "    # Regex pattern to match emoticons like :)), =)), :((, =((, :)))) and =(((, etc.\n",
    "    pattern = r'(:|=)(\\)+)'\n",
    "\n",
    "    # Replace all matches with the replacement string\n",
    "    result = re.sub(pattern, replacement, text)\n",
    "    \n",
    "    return result\n",
    "# Example usage\n",
    "sample_text = \"Hello :)) How are you? I'm feeling a bit :((( =(( but also =)) :)))\"\n",
    "new_text = replace_emoticons_sad(sample_text)\n",
    "new_text = replace_emoticons_smile(new_text)\n",
    "print(new_text)\n"
   ]
  },
  {
   "cell_type": "code",
   "execution_count": null,
   "metadata": {},
   "outputs": [],
   "source": [
    "# open the emoji_vietnamese.json\n",
    "with open(\"data/json/emoji_vietnamese.json\") as f:\n",
    "    emoji_vietnamese = json.load(f)\n"
   ]
  },
  {
   "cell_type": "code",
   "execution_count": null,
   "metadata": {},
   "outputs": [],
   "source": [
    "with open(\"data/json/vimmsd-train.json\") as f:\n",
    "    data = json.load(f)\n",
    "\n",
    "captions  = []\n",
    "labels = []\n",
    "images = []\n",
    "\n",
    "for i in range(len(data)):\n",
    "    captions.append(data[str(i)]['caption'])\n",
    "    labels.append(data[str(i)]['label'])\n",
    "    images.append(data[str(i)]['image'])\n"
   ]
  },
  {
   "cell_type": "code",
   "execution_count": null,
   "metadata": {},
   "outputs": [],
   "source": [
    "newcaptions = []\n",
    "for caption in captions:\n",
    "    # remove dot and slash\n",
    "    caption = remove_dots_from_words(caption)\n",
    "    caption = remove_slashs_from_words(caption)\n",
    "    caption = remove_commas_from_words(caption)\n",
    "    # replace emoticons\n",
    "    caption= replace_emoticons_sad(caption)\n",
    "    caption= replace_emoticons_smile(caption)\n",
    "    # replace emoji\n",
    "    for k, v in emoji_vietnamese.items():\n",
    "        caption = caption.replace(k,f\" <icon> {v} </icon> \")\n",
    "    newcaptions.append(caption)"
   ]
  },
  {
   "cell_type": "code",
   "execution_count": null,
   "metadata": {},
   "outputs": [],
   "source": [
    "# save to a new json file\n",
    "\n",
    "new_data = {}\n",
    "for i in range(len(data)):\n",
    "    new_data[str(i)] = {'caption': newcaptions[i], 'label': labels[i], 'image':images[i]}"
   ]
  },
  {
   "cell_type": "code",
   "execution_count": null,
   "metadata": {},
   "outputs": [],
   "source": [
    "with open(\"data/json/vimmsd-train-preprocess.json\", \"w\") as f:\n",
    "    json.dump(new_data, f, indent=4, ensure_ascii=False)"
   ]
  },
  {
   "cell_type": "code",
   "execution_count": null,
   "metadata": {},
   "outputs": [],
   "source": [
    "with open(\"data/json/vimmsd-public-test.json\") as f:\n",
    "    data = json.load(f)\n",
    "\n",
    "captions  = []\n",
    "labels = []\n",
    "images = []\n",
    "\n",
    "for i in range(len(data)):\n",
    "    captions.append(data[str(i)]['caption'])\n",
    "    labels.append(data[str(i)]['label'])\n",
    "    images.append(data[str(i)]['image'])\n",
    "\n",
    "newcaptions = []\n",
    "for caption in captions:\n",
    "    # remove dot and slash\n",
    "    caption = remove_dots_from_words(caption)\n",
    "    caption = remove_slashs_from_words(caption)\n",
    "    caption = remove_commas_from_words(caption)\n",
    "    # replace emoticons\n",
    "    caption= replace_emoticons_sad(caption)\n",
    "    caption= replace_emoticons_smile(caption)\n",
    "    # replace emoji\n",
    "    for k, v in emoji_vietnamese.items():\n",
    "        caption = caption.replace(k,f\" <icon> {v} </icon> \")\n",
    "    newcaptions.append(caption)\n",
    "    \n",
    "new_data = {}\n",
    "for i in range(len(data)):\n",
    "    new_data[str(i)] = {'caption': newcaptions[i], 'label': labels[i], 'image':images[i]}\n",
    "    \n",
    "with open(\"data/json/vimmsd-public-test-preprocess.json\", \"w\") as f:\n",
    "    json.dump(new_data, f, indent=4, ensure_ascii=False)\n",
    "    "
   ]
  }
 ],
 "metadata": {
  "kernelspec": {
   "display_name": "base",
   "language": "python",
   "name": "python3"
  },
  "language_info": {
   "codemirror_mode": {
    "name": "ipython",
    "version": 3
   },
   "file_extension": ".py",
   "mimetype": "text/x-python",
   "name": "python",
   "nbconvert_exporter": "python",
   "pygments_lexer": "ipython3",
   "version": "3.11.9"
  }
 },
 "nbformat": 4,
 "nbformat_minor": 2
}
