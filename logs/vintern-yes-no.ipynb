{
 "cells": [
  {
   "cell_type": "markdown",
   "metadata": {},
   "source": [
    "prompt: \n",
    "`<image>\\nĐây là bức ảnh của 1 bài đăng trên Facebook, có tiêu đề như sau: {caption}. Hãy xác định xem bài đăng trên có phải là bài đăng châm biếm không? Biết rằng nó có thể châm biến, mỉa mai trong ảnh hoặc trong tiêu đề. Trả về \"Yes\" nếu bài đăng mang tính châm biếm, mỉa mai và \"No\" nếu không.\\n\"\n",
    "`"
   ]
  },
  {
   "cell_type": "markdown",
   "metadata": {
    "vscode": {
     "languageId": "plaintext"
    }
   },
   "source": [
    "Yes no only\n",
    "+ Yes for sarcasm\n",
    "+ No for not-sarcasm"
   ]
  }
 ],
 "metadata": {
  "language_info": {
   "name": "python"
  }
 },
 "nbformat": 4,
 "nbformat_minor": 2
}
