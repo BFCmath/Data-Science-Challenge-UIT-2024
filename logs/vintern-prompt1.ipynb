{
 "cells": [
  {
   "cell_type": "markdown",
   "metadata": {
    "vscode": {
     "languageId": "plaintext"
    }
   },
   "source": [
    "prompt: \n",
    "`<image>\\\\Đây là bức ảnh của 1 bài đăng facebook, bài này có tiêu đề: <caption>. Hãy cho tôi biết liệu bài đăng có mang tính mỉa mai hay không? Trả lời 1 trong 4 lựa chọn: not-sarcasm, text-sarcasm, image-sarcasm, multi-sarcasm\"\n",
    "`"
   ]
  },
  {
   "cell_type": "markdown",
   "metadata": {
    "vscode": {
     "languageId": "plaintext"
    }
   },
   "source": [
    "+ data/weights/first_successful_vintern_finetune.zip\n",
    "+ data/weights/second_epoch_vintern_finetune.zip\n",
    "+ data\\weights\\third_epoch_vintern_finetune.zip\n",
    "\n",
    "go through 3 epochs "
   ]
  },
  {
   "cell_type": "markdown",
   "metadata": {
    "vscode": {
     "languageId": "plaintext"
    }
   },
   "source": [
    "+ best so far: third epoch - 0.41\n",
    "+ seem to overfitting on 4th epoch :0.38"
   ]
  }
 ],
 "metadata": {
  "language_info": {
   "name": "python"
  }
 },
 "nbformat": 4,
 "nbformat_minor": 2
}
