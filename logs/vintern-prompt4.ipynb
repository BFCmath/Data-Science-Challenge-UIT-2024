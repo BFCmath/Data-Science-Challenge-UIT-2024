{
 "cells": [
  {
   "cell_type": "markdown",
   "metadata": {},
   "source": [
    "prompt: \n",
    "`\"<image>\\nĐây là bức ảnh của 1 bài đăng trên nền tảng xã hội, bài này có tiêu đề: {caption}.\\n Đầu tiên, hãy phân tích ý nghĩa của bức ảnh, bao gồm chữ và hàm ý bên trong ảnh, sau đó xác định sự liên quan tới tiêu đề. Cuối cùng là xác định xem bài đăng có tính mỉa mai, châm biếm hay không, trả về 'Yes' nếu bài đăng có tính mỉa mai, châm biếm. Nếu không có thì trả về 'No'.\n",
    "`"
   ]
  },
  {
   "cell_type": "markdown",
   "metadata": {
    "vscode": {
     "languageId": "plaintext"
    }
   },
   "source": [
    "Chain of Thought for Yes No only"
   ]
  }
 ],
 "metadata": {
  "language_info": {
   "name": "python"
  }
 },
 "nbformat": 4,
 "nbformat_minor": 2
}
