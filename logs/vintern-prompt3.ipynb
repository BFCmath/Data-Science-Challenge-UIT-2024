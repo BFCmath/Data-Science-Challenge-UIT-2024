{
 "cells": [
  {
   "cell_type": "markdown",
   "metadata": {},
   "source": [
    "prompt: \n",
    "`f\"<image>\\nĐây là bức ảnh của 1 bài đăng trên các nền tảng xã hội, bài này có tiêu đề: {caption}.\\n Đầu tiên, hãy xác định tính mỉa mai châm biến trong bức ảnh, sau đó xác định tính mỉa mai trong tiêu đề, nếu có tính mỉa mai, châm biến trong cả ảnh và tiêu đề, trả về 'multi-sarcasm', còn nếu không có trong cả ảnh và tiêu đề trả về 'not-sarcasm'. Còn nếu chỉ có tính mỉa mai trong ảnh thì trả về 'image-sarcasm', còn nếu chỉ có trong tiêu đề thì trả về 'caption-sarcasm'.\\n\"\n",
    "`"
   ]
  }
 ],
 "metadata": {
  "language_info": {
   "name": "python"
  }
 },
 "nbformat": 4,
 "nbformat_minor": 2
}
