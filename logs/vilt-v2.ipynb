{
 "cells": [
  {
   "cell_type": "markdown",
   "metadata": {
    "vscode": {
     "languageId": "plaintext"
    }
   },
   "source": [
    "+ loss: CE \n",
    "+ group split"
   ]
  },
  {
   "cell_type": "markdown",
   "metadata": {
    "vscode": {
     "languageId": "plaintext"
    }
   },
   "source": [
    "+ model_classifier_v2_3.pth: unfreeze classifier only, run through 3 epochs\n",
    "+ model_classifier_encoder_v2_4.pth: unfreeze classifier and encoder, using classifer_v2_3 as init, run through 4 epochs\n"
   ]
  },
  {
   "cell_type": "markdown",
   "metadata": {
    "vscode": {
     "languageId": "plaintext"
    }
   },
   "source": [
    "+ vilt_classifier_embedder_v2_2.pth: unfreeze  classifier and embedder, init with class_encoder_v2 and run through 2 epochs"
   ]
  },
  {
   "cell_type": "markdown",
   "metadata": {
    "vscode": {
     "languageId": "plaintext"
    }
   },
   "source": [
    "+ vilt_pooler_v2_3.pth: unfreeze pooler, init with classifier encoder v2_4, through 3 epoch"
   ]
  }
 ],
 "metadata": {
  "language_info": {
   "name": "python"
  }
 },
 "nbformat": 4,
 "nbformat_minor": 2
}
