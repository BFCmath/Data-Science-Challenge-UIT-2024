{
 "cells": [
  {
   "cell_type": "markdown",
   "metadata": {},
   "source": [
    "+ loss: Focal\n",
    "+ group split"
   ]
  },
  {
   "cell_type": "markdown",
   "metadata": {
    "vscode": {
     "languageId": "plaintext"
    }
   },
   "source": [
    "+ vilt_classifier_focal_8.pth: only unfreeze classifier, init random and go through 8 epoch\n",
    "+ vilt_classifier_encoder_focal_2.pth: unfreeze classifier and encoder, init with class_8"
   ]
  },
  {
   "cell_type": "markdown",
   "metadata": {
    "vscode": {
     "languageId": "plaintext"
    }
   },
   "source": [
    "+ model_layernorm_focal_9.pth: unfreeze layernorm, init with class_en_focal_2 and go through 9 epoch"
   ]
  }
 ],
 "metadata": {
  "language_info": {
   "name": "python"
  }
 },
 "nbformat": 4,
 "nbformat_minor": 2
}
