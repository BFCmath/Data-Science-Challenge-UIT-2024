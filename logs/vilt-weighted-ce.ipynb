{
 "cells": [
  {
   "cell_type": "markdown",
   "metadata": {
    "vscode": {
     "languageId": "plaintext"
    }
   },
   "source": [
    "+ loss: weighted CE \n",
    "+ group split"
   ]
  },
  {
   "cell_type": "markdown",
   "metadata": {
    "vscode": {
     "languageId": "plaintext"
    }
   },
   "source": [
    "+ vilt_classifier_weighted_CE_9.pth: unfreeze classifier only, run through 9 epochs\n",
    "+ vilt_classifier_encoder_weighted_CE_1.pth: unfreeze classifier and encoder, using e9 as init, run through 1 epochs\n",
    "+ vilt_classifier_pooler_weighted_CE_4.pth: unfreeze classifier and encoder, using c_e_1 as init, run through 4 epochs\n",
    "+ vilt_pooler_weighted_CE_9.pth: unfreeze pooler classifer, using c_p_4 as init, run through 9 epochs"
   ]
  }
 ],
 "metadata": {
  "language_info": {
   "name": "python"
  }
 },
 "nbformat": 4,
 "nbformat_minor": 2
}
