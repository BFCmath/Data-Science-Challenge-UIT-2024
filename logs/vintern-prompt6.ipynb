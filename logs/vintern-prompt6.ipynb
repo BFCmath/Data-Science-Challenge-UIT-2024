{
 "cells": [
  {
   "cell_type": "markdown",
   "metadata": {},
   "source": [
    "prompt: \n",
    "`<image>\\nĐây là bức ảnh của 1 bài đăng trên các nền tảng xã hội, bài này có tiêu đề: {caption}.\\n Hãy xác định bài đăng này có mang tính mỉa mai thuộc dạng nào trong 3 dạng sau: not-sarcasm, text-sarcasm, image-sarcasm. Nếu bài đăng có cả text-sarcasm và image-sarcasm thì trả về multi-sarcasm.\n",
    "`"
   ]
  },
  {
   "cell_type": "markdown",
   "metadata": {
    "vscode": {
     "languageId": "plaintext"
    }
   },
   "source": [
    "+ denote emoji, emoticons and remove dot, slash and coma from word."
   ]
  }
 ],
 "metadata": {
  "language_info": {
   "name": "python"
  }
 },
 "nbformat": 4,
 "nbformat_minor": 2
}
