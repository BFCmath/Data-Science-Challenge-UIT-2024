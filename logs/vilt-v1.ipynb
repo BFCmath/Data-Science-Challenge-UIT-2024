{
 "cells": [
  {
   "cell_type": "markdown",
   "metadata": {
    "vscode": {
     "languageId": "plaintext"
    }
   },
   "source": [
    "+ loss funciton: CE\n",
    "+ stratified "
   ]
  },
  {
   "cell_type": "markdown",
   "metadata": {},
   "source": [
    "check in kaggle PhanDai/finetune_unfreeze vilt\n"
   ]
  },
  {
   "cell_type": "markdown",
   "metadata": {},
   "source": [
    "+ model_epoch_2 : unfreeze classier and init random\n",
    "+ model_unfreeze_epoch_3: unfreeze whole model, and init random\n",
    "+ model_unfreeze_encoder_3 and 4: unfreeze classifier and encoder, init with model_epoch_2"
   ]
  },
  {
   "cell_type": "markdown",
   "metadata": {},
   "source": [
    "Important note, no update in optimizer for encoder (by mistake)"
   ]
  },
  {
   "cell_type": "markdown",
   "metadata": {
    "vscode": {
     "languageId": "plaintext"
    }
   },
   "source": [
    "+ best : model_epoch_2: 0.39\n",
    "+ stable: model_unfreeze_encoder_3: 0.38"
   ]
  }
 ],
 "metadata": {
  "language_info": {
   "name": "python"
  }
 },
 "nbformat": 4,
 "nbformat_minor": 2
}
