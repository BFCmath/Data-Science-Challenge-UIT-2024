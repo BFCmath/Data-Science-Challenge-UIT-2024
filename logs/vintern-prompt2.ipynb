{
 "cells": [
  {
   "cell_type": "markdown",
   "metadata": {},
   "source": [
    "prompt: \n",
    "`<image>\\nĐây là bức ảnh của 1 bài đăng trên các nền tảng xã hội, bài này có tiêu đề: <caption>.\\n Hãy xác định bài đăng này có mang tính mỉa mai thuộc dạng nào trong 3 dạng sau: not-sarcasm, text-sarcasm, image-sarcasm. Nếu bài đăng có cả text-sarcasm và image-sarcasm thì trả về multi-sarcasm.\\\"\n",
    "`"
   ]
  },
  {
   "cell_type": "markdown",
   "metadata": {
    "vscode": {
     "languageId": "plaintext"
    }
   },
   "source": [
    "+ data/weights/first_epoch_vintern_finetune_prompt2.zip\n",
    "\n",
    "go through 1 epoch"
   ]
  },
  {
   "cell_type": "markdown",
   "metadata": {
    "vscode": {
     "languageId": "plaintext"
    }
   },
   "source": [
    "best: e3: 0.42 but need to test the stable\n"
   ]
  }
 ],
 "metadata": {
  "language_info": {
   "name": "python"
  }
 },
 "nbformat": 4,
 "nbformat_minor": 2
}
